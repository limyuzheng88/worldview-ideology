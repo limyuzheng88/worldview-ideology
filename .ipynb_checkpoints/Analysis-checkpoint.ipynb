{
 "cells": [
  {
   "cell_type": "code",
   "execution_count": 262,
   "metadata": {},
   "outputs": [
    {
     "name": "stderr",
     "output_type": "stream",
     "text": [
      "[nltk_data] Downloading package wordnet to\n",
      "[nltk_data]     C:\\Users\\Dell\\AppData\\Roaming\\nltk_data...\n",
      "[nltk_data]   Package wordnet is already up-to-date!\n"
     ]
    }
   ],
   "source": [
    "import pickle\n",
    "from tqdm import tqdm\n",
    "import os\n",
    "\n",
    "from gensim.models.word2vec import Word2Vec\n",
    "import numpy as np\n",
    "from sklearn.cross_decomposition import CCA\n",
    "from sklearn.metrics.pairwise import cosine_similarity\n",
    "import json\n",
    "from nltk.corpus import stopwords, wordnet\n",
    "from nltk import word_tokenize\n",
    "from nltk.stem import WordNetLemmatizer\n",
    "import nltk\n",
    "nltk.download('wordnet')\n",
    "import random"
   ]
  },
  {
   "cell_type": "markdown",
   "metadata": {},
   "source": [
    "# Worldview & Ideology Analysis"
   ]
  },
  {
   "cell_type": "markdown",
   "metadata": {},
   "source": [
    "This notebook contains examples of how to perform the analysis from \"Aligning Multidimensional Worldviews and Discovering Ideological Differences\" (Milbauer et al., 2021)"
   ]
  },
  {
   "cell_type": "markdown",
   "metadata": {},
   "source": [
    "## If editing in Google Colab: mount gdrive, clone github repo (if not already cloned), and go to cloned folder"
   ]
  },
  {
   "cell_type": "code",
   "execution_count": null,
   "metadata": {},
   "outputs": [],
   "source": [
    "# mount gdrive\n",
    "from google.colab import drive\n",
    "drive.mount('/content/drive')"
   ]
  },
  {
   "cell_type": "code",
   "execution_count": null,
   "metadata": {},
   "outputs": [],
   "source": [
    "# %cd drive/MyDrive/Colab_Notebooks #go to main Colab folder \n",
    "# ! git clone 'https://github.com/limyuzheng88/worldview-ideology.git' #clone\n",
    "# ! git pull #if already cloned repo, then just pull\n",
    "\n",
    "%cd drive/MyDrive/Colab_Notebooks/worldview-ideology/\n",
    "!ls"
   ]
  },
  {
   "cell_type": "markdown",
   "metadata": {},
   "source": [
    "## Load corpora"
   ]
  },
  {
   "cell_type": "code",
   "execution_count": 64,
   "metadata": {},
   "outputs": [],
   "source": [
    "source_a, source_b = 'subreddit_askmen', 'subreddit_askwomen'\n",
    "with open('./corpus/{}.txt'.format(source_a), encoding='utf-8') as f:\n",
    "    corpus_a = f.readlines()\n",
    "with open('./corpus/{}.txt'.format(source_b), encoding='utf-8') as f:\n",
    "    corpus_b = f.readlines()"
   ]
  },
  {
   "cell_type": "markdown",
   "metadata": {},
   "source": [
    "## Loading the trained embeddings"
   ]
  },
  {
   "cell_type": "markdown",
   "metadata": {},
   "source": [
    "First, we load the trained embeddings, and quickly examine them to see if they make sense.\n",
    "We are using small text samples (500k tokens), so embeddings may not be very good."
   ]
  },
  {
   "cell_type": "code",
   "execution_count": 122,
   "metadata": {},
   "outputs": [
    {
     "name": "stdout",
     "output_type": "stream",
     "text": [
      "('republican', 0.6307386159896851)\n",
      "('dem', 0.6165011525154114)\n",
      "('democrats', 0.6043610572814941)\n",
      "('democratic', 0.5978788137435913)\n",
      "('dems', 0.49818018078804016)\n",
      "('liberal', 0.48974037170410156)\n",
      "('candidate', 0.4867892265319824)\n",
      "('party', 0.4780939519405365)\n",
      "('republicans', 0.477538526058197)\n",
      "('progressive', 0.4756127595901489)\n",
      "\n",
      "('dem', 0.6980773210525513)\n",
      "('republican', 0.6605644226074219)\n",
      "('democratic', 0.6189409494400024)\n",
      "('democrats', 0.6140726804733276)\n",
      "('party', 0.6009922623634338)\n",
      "('dems', 0.48170965909957886)\n",
      "('liberal', 0.4369395971298218)\n",
      "('leftist', 0.42886313796043396)\n",
      "('left', 0.4251934587955475)\n",
      "('candidates', 0.4231654405593872)\n"
     ]
    }
   ],
   "source": [
    "model_a = Word2Vec.load('models/politics.word2vec.model')\n",
    "model_b = Word2Vec.load('models/the_donald.word2vec.model')\n",
    "# pretrained on more data\n",
    "# model_a = Word2Vec.load('models/politics.big.model')\n",
    "# model_b = Word2Vec.load('models/the_donald.big.model')\n",
    "\n",
    "posWords = ['democrat']\n",
    "negWords = []\n",
    "for x in model_a.wv.most_similar(positive=posWords, negative=negWords):\n",
    "    print(x)\n",
    "print()\n",
    "for x in model_b.wv.most_similar(positive=posWords, negative=negWords):\n",
    "    print(x)"
   ]
  },
  {
   "cell_type": "code",
   "execution_count": 54,
   "metadata": {},
   "outputs": [
    {
     "name": "stdout",
     "output_type": "stream",
     "text": [
      "('addiction', 0.674181342124939)\n",
      "('watching', 0.5972264409065247)\n",
      "('watch', 0.5872642993927002)\n",
      "('watched', 0.5676982402801514)\n",
      "('modern', 0.561260461807251)\n",
      "('fantasy', 0.5315399765968323)\n",
      "('content', 0.5298962593078613)\n",
      "('argue', 0.5205428600311279)\n",
      "('becomes', 0.5109003186225891)\n",
      "('sexuality', 0.5108972787857056)\n",
      "\n",
      "('creepy', 0.5877805948257446)\n",
      "('attracted', 0.5398934483528137)\n",
      "('pleasure', 0.5357645750045776)\n",
      "('flirting', 0.5247712135314941)\n",
      "('man', 0.5183247327804565)\n",
      "('sexually', 0.5093643665313721)\n",
      "('watching', 0.5009644031524658)\n",
      "('dudes', 0.49731189012527466)\n",
      "('hitting', 0.4970484673976898)\n",
      "('anime', 0.4925317168235779)\n"
     ]
    }
   ],
   "source": [
    "# MY DATASET\n",
    "\n",
    "model_a = Word2Vec.load('data/models/{}.model'.format(source_a))\n",
    "model_b = Word2Vec.load('data/models/{}.model'.format(source_b))\n",
    "# pretrained on more data\n",
    "# model_a = Word2Vec.load('models/politics.big.model')\n",
    "# model_b = Word2Vec.load('models/the_donald.big.model')\n",
    "\n",
    "posWords = ['men', 'porn']\n",
    "negWords = ['women']\n",
    "for x in model_a.wv.most_similar(positive=posWords, negative=negWords):\n",
    "    print(x)\n",
    "print()\n",
    "for x in model_b.wv.most_similar(positive=posWords, negative=negWords):\n",
    "    print(x)"
   ]
  },
  {
   "cell_type": "markdown",
   "metadata": {},
   "source": [
    "## Aligning the embeddings"
   ]
  },
  {
   "cell_type": "markdown",
   "metadata": {},
   "source": [
    "First, we find the overlapping vocabulary of the two models, and use this to construct an embedding matrix for each model."
   ]
  },
  {
   "cell_type": "code",
   "execution_count": 23,
   "metadata": {},
   "outputs": [],
   "source": [
    "vocab_a = list(set(model_a.wv.vocab.keys()))\n",
    "vocab_b = list(set(model_b.wv.vocab.keys()))\n",
    "\n",
    "shared_vocab = set.intersection(set(vocab_a),\n",
    "                                set(vocab_b))\n",
    "shared_vocab = list(sorted(list(shared_vocab)))\n",
    "combo_vocab = set.union(set(vocab_a),\n",
    "                                set(vocab_b))\n",
    "\n",
    "w2idx = { w:i for i,w in enumerate(shared_vocab) }\n",
    "a2idx = { w:i for i,w in enumerate(vocab_a) }\n",
    "idx2b = { i:w for i,w in enumerate(vocab_b) }\n",
    "\n",
    "mtxA = np.vstack([model_a.wv[w] for w in shared_vocab])\n",
    "mtxB = np.vstack([model_b.wv[w] for w in shared_vocab])\n",
    "mtxA_ = np.vstack([model_a.wv[w] for w in vocab_a])\n",
    "mtxB_ = np.vstack([model_b.wv[w] for w in vocab_b])"
   ]
  },
  {
   "cell_type": "markdown",
   "metadata": {},
   "source": [
    "We then select only the N most common words as anchors to train our alignment. (If you're using the big model, this won't quite work because the vocabularies are different.)"
   ]
  },
  {
   "cell_type": "code",
   "execution_count": 24,
   "metadata": {},
   "outputs": [],
   "source": [
    "counts = pickle.load(open('data/counts.pkl', 'rb'))\n",
    "n = 5000\n",
    "topN = [y for x,y in sorted([(counts[w], w) for w in w2idx if w in counts], reverse=True)][:n] #w2idx is from shared_vocab\n",
    "idxs = [w2idx[w] for w in topN]"
   ]
  },
  {
   "cell_type": "code",
   "execution_count": 25,
   "metadata": {},
   "outputs": [],
   "source": [
    "anchorA = mtxA[idxs, :]\n",
    "anchorB = mtxB[idxs, :]"
   ]
  },
  {
   "cell_type": "markdown",
   "metadata": {},
   "source": [
    "Next, we use two different techniques for aligning the embeddings: SVD and CCA"
   ]
  },
  {
   "cell_type": "code",
   "execution_count": 26,
   "metadata": {},
   "outputs": [],
   "source": [
    "def align_svd(source, target):\n",
    "    product = np.matmul(source.transpose(), target)\n",
    "    U, s, V = np.linalg.svd(product)\n",
    "    T = np.matmul(U,V)\n",
    "    return T\n",
    "\n",
    "svd = align_svd(anchorA, anchorB)\n",
    "svdA = mtxA_.dot(svd)\n",
    "svdB = mtxB_"
   ]
  },
  {
   "cell_type": "code",
   "execution_count": 27,
   "metadata": {},
   "outputs": [],
   "source": [
    "def align_cca(source, target):\n",
    "    N_dims = source.shape[1]\n",
    "    cca = CCA(n_components=N_dims, max_iter=2000)\n",
    "    cca.fit(source, target)\n",
    "    return cca\n",
    "\n",
    "cca = align_cca(anchorA, anchorB)\n",
    "ccaA, ccaB = cca.transform(mtxA, mtxB)"
   ]
  },
  {
   "cell_type": "code",
   "execution_count": 28,
   "metadata": {},
   "outputs": [],
   "source": [
    "def build_translator(a, b, a2idx, idx2b):\n",
    "    sims = cosine_similarity(a, b)\n",
    "    most_sims = np.argsort(sims, axis=1)[:, ::-1]\n",
    "    \n",
    "    def translator(w, k=1):\n",
    "        idx = a2idx[w]\n",
    "        idxs = most_sims[idx, :k]\n",
    "        words = [idx2b[i] for i in idxs]\n",
    "        return words, sims[idx, idxs]\n",
    "    \n",
    "    return translator"
   ]
  },
  {
   "cell_type": "code",
   "execution_count": 29,
   "metadata": {},
   "outputs": [],
   "source": [
    "translator = build_translator(svdA, svdB, a2idx, idx2b)"
   ]
  },
  {
   "cell_type": "markdown",
   "metadata": {},
   "source": [
    "## Exploring the Alignment"
   ]
  },
  {
   "cell_type": "markdown",
   "metadata": {},
   "source": [
    "We now explore three different ways of using the alignmed embeddings to explore the worldview and ideology of the two communities."
   ]
  },
  {
   "cell_type": "code",
   "execution_count": 92,
   "metadata": {},
   "outputs": [
    {
     "data": {
      "text/plain": [
       "(['democrat', 'republican', 'dem', 'democrats', 'republicans'],\n",
       " array([0.6164709 , 0.5891098 , 0.5137549 , 0.4719857 , 0.46580008],\n",
       "       dtype=float32))"
      ]
     },
     "execution_count": 92,
     "metadata": {},
     "output_type": "execute_result"
    }
   ],
   "source": [
    "translator('democrat', k=5)"
   ]
  },
  {
   "cell_type": "code",
   "execution_count": 45,
   "metadata": {},
   "outputs": [
    {
     "data": {
      "text/plain": [
       "(['lol', 'haha', 'yeah', ':face_with_tears_of_joy:', 'idk'],\n",
       " array([0.79610276, 0.7740769 , 0.7501412 , 0.74681777, 0.7448173 ],\n",
       "       dtype=float32))"
      ]
     },
     "execution_count": 45,
     "metadata": {},
     "output_type": "execute_result"
    }
   ],
   "source": [
    "# MY DATASET\n",
    "translator('lol', k=5)"
   ]
  },
  {
   "cell_type": "code",
   "execution_count": 268,
   "metadata": {},
   "outputs": [
    {
     "data": {
      "text/plain": [
       "'aa'"
      ]
     },
     "execution_count": 268,
     "metadata": {},
     "output_type": "execute_result"
    }
   ],
   "source": []
  },
  {
   "cell_type": "code",
   "execution_count": 269,
   "metadata": {},
   "outputs": [
    {
     "data": {
      "text/plain": [
       "['aa', 'dd']"
      ]
     },
     "execution_count": 269,
     "metadata": {},
     "output_type": "execute_result"
    }
   ],
   "source": [
    "[lemmatizer.lemmatize(token) for token in word_tokenize('aa dd')]"
   ]
  },
  {
   "cell_type": "code",
   "execution_count": 270,
   "metadata": {},
   "outputs": [
    {
     "name": "stdout",
     "output_type": "stream",
     "text": [
      "'\u001b[1m\u001b[94msex\u001b[0m' in source_a (1 example sentence below):\n",
      "it really depends on your relationship with the cheater and how severe it is . typically ( like most people here saying ‘ no ' ) , it 's not ideal to trust a cheater . and there is every reason not to . however , the only time they deserve a second chance is when they repent and seek forgiveness ( not just with you but with themselves ) . and show a great deal of effort to improve and restore the relationship . also , this is marginal , but if their cheating is also not a byproduct of their making ; they happen to be a \u001b[1m\u001b[94msex\u001b[0m addict and need serious mental treatment to help express their emotions and vent healthily rather than through \u001b[1m\u001b[94msex\u001b[0m . when they should n't be trusted is when their cheating is more than just that . if they happen to lie , deceive , manipulate and much more ... cut them out . do n't give them a second chance . if these people are willing to cheat , make you feel like shit , and see no wrong in their choices ... then they 're not worth your time and energy . cuz they will just drag you down and ruin your life ( directly or indirectly ) out of pure selfishness .\n",
      "\n",
      "translates to source_b words:\n",
      "\n",
      "\u001b[1m\u001b[91mintimacy\u001b[0m, aligment score: 0.7238034605979919\n",
      "i thought it was relaxing how he did n't push for \u001b[1m\u001b[91mintimacy\u001b[0m at every chance , but it turns out to be seriously boring when your partner rarely initiates .\n",
      "\n",
      "\u001b[1m\u001b[91msex\u001b[0m, aligment score: 0.7049534916877747\n",
      "a girlfriend who loves \u001b[1m\u001b[91msex\u001b[0m .\n",
      "\n",
      "\u001b[1m\u001b[91mpleasure\u001b[0m, aligment score: 0.6929904818534851\n",
      "the shocking number of men who are on some level repulsed by vaginas despite claiming to be attracted to people who have them . if you 're going to joke about how it “ smells fishy ” or “ tastes nasty , ” etc . , but you still think you deserve to have access to it for your own \u001b[1m\u001b[91mpleasure\u001b[0m , i 'm not sure what world you 're living in but it sure ain't mine .\n",
      "\n",
      "\u001b[1m\u001b[91mintimate\u001b[0m, aligment score: 0.6702367067337036\n",
      "i think in this case it 's not intimacy just some people chillin and hanging out in a comfy way if that makes sense . i have friends i 've \" cuddled \" with platonically but its not spooning or anything \u001b[1m\u001b[91mintimate\u001b[0m just people being comfortable around each other like you might with a really good friend of the same gender . its not deep\n",
      "\n",
      "\u001b[1m\u001b[91mpartner\u001b[0m, aligment score: 0.655249297618866\n",
      "this . if you are worried about being the ' second wife ' , then i think you have some relationship insecurities to work through before you get married . i was a divorced woman dating a divorced man who had children with his ex . while we ended up breaking up ( for reasons unrelated to either of us being ' second ' ) , i got to know his ex-wife during child drop-offs , family events and so on . she 's awesome and i really like her . i stay in touch with all of them , partly so i can continue seeing the kids , but also partly because family is what you make of it . i consider them all part of mine , including the ex-wife and her new husband ! in fact , i 've had thanksgiving dinner at their house , with my ex , every year since we broke up ! love is not a ' zero sum ' game . just because you love , or have loved , one person does n't mean you have any less love to give to other people . just because your \u001b[1m\u001b[91mpartner\u001b[0m had a spouse does n't mean they will love you any less . you need to embrace that fully and never give it another thought . otherwise , thinking about his former wife will eat at you until it becomes an elephant in the room of your marriage , possibly leading to its end . you need to get a grip on this before you get married . as for stressing about the wedding - why ? i find that wedding planning stress is a self-inflicted form of torture . if planning a wedding is stressful , then do n't do it . go all marie kondo on it and be as minimalist as possible , leaving out everything where planning would make you stressed . if you end up eloping in a vegas chapel , that 's fine , too . you do n't need a limo , flowers , fancy dress , guest lists , programs , invites , and all that other shit to get married .\n",
      "\n"
     ]
    }
   ],
   "source": [
    "# MY DATASET\n",
    "class color:\n",
    "   PURPLE = '\\033[95m'\n",
    "   CYAN = '\\033[96m'\n",
    "   DARKCYAN = '\\033[36m'\n",
    "   BLUE = '\\033[94m'\n",
    "   GREEN = '\\033[92m'\n",
    "   YELLOW = '\\033[93m'\n",
    "   RED = '\\033[91m'\n",
    "   BOLD = '\\033[1m'\n",
    "   UNDERLINE = '\\033[4m'\n",
    "   END = '\\033[0m'\n",
    "\n",
    "# function to get example sentences that contain said word  \n",
    "def get_example_sentences(word, corpus, n_sentences=1, seed=None):\n",
    "    random.seed(a=seed) #fix seed if needed. removes randomness, and fixes the output as a constant\n",
    "    sentences = random.sample([s for s in corpus if word in s], n_sentences)\n",
    "    return sentences\n",
    "    \n",
    "n_sentences = 1\n",
    "seed = None\n",
    "\n",
    "word_a = 'sex'\n",
    "word_a_highlighted = '{}{}{}'.format(color.BOLD + color.BLUE, word_a, color.END)\n",
    "print('\\'{}\\' in source_a ({} example sentence below):'.format(word_a_highlighted, n_sentences))\n",
    "[print(s.replace(word_a, word_a_highlighted)) for s in get_example_sentences(word_a, corpus_a, n_sentences=n_sentences, seed=seed)]\n",
    "\n",
    "word_b = translator(word_a, k=5)\n",
    "print('translates to source_b words:\\n')\n",
    "for w in zip(translator(word_a, k=5)[0], translator(word_a, k=5)[1]):\n",
    "    word_b_highlighted = '{}{}{}'.format(color.BOLD + color.RED, w[0], color.END)\n",
    "    print(word_b_highlighted + ', aligment score: {}'.format(w[1]))\n",
    "    [print(s.replace(w[0], word_b_highlighted)) for s in get_example_sentences(w[0], corpus_b, n_sentences=n_sentences, seed=seed)]"
   ]
  },
  {
   "cell_type": "markdown",
   "metadata": {},
   "source": [
    "### Misalignment"
   ]
  },
  {
   "cell_type": "code",
   "execution_count": 62,
   "metadata": {},
   "outputs": [
    {
     "name": "stdout",
     "output_type": "stream",
     "text": [
      "0.3664901664145234\n"
     ]
    }
   ],
   "source": [
    "misaligned = []\n",
    "scores = []\n",
    "\n",
    "for w in shared_vocab:\n",
    "    w_ = translator(w)[0][0]\n",
    "    s = translator(w)[1][0]\n",
    "    if w != w_:\n",
    "        misaligned.append((w, w_))\n",
    "        scores.append(s)\n",
    "        \n",
    "print(len(misaligned) / len(shared_vocab))"
   ]
  },
  {
   "cell_type": "code",
   "execution_count": 46,
   "metadata": {},
   "outputs": [
    {
     "name": "stdout",
     "output_type": "stream",
     "text": [
      "0.38506024096385544\n"
     ]
    }
   ],
   "source": [
    "# MY DATASET\n",
    "misaligned = []\n",
    "scores = []\n",
    "\n",
    "for w in shared_vocab:\n",
    "    w_ = translator(w)[0][0]\n",
    "    s = translator(w)[1][0]\n",
    "    if w != w_:\n",
    "        misaligned.append((w, w_))\n",
    "        scores.append(s)\n",
    "        \n",
    "print(len(misaligned) / len(shared_vocab))"
   ]
  },
  {
   "cell_type": "code",
   "execution_count": 64,
   "metadata": {},
   "outputs": [
    {
     "name": "stdout",
     "output_type": "stream",
     "text": [
      "('performed_automatically', 'please_contact') 0.8923226\n",
      "('moderators', 'please_contact') 0.8301286\n",
      "('``', \"''\") 0.7827312\n",
      "('&', 'gt') 0.74673975\n",
      "('bot', 'performed_automatically') 0.7402881\n",
      "(';', 'gt') 0.71963507\n",
      "('though', 'but') 0.7046928\n",
      "('citizenship_question', 'census') 0.68586487\n",
      "('amp', ';') 0.68398106\n",
      "('action', 'performed_automatically') 0.6676772\n",
      "('couple', 'few') 0.6567316\n",
      "('disagree', 'agree') 0.64628285\n",
      "('dems', 'democrats') 0.6362802\n",
      "('supreme_court', 'scotus') 0.61996275\n",
      "('republican', 'democrat') 0.6085014\n",
      "('dumb', 'stupid') 0.60647255\n",
      "('26_times', 'lolita_express') 0.6013237\n",
      "('capitalism', 'communism') 0.5988106\n",
      "('jeffrey_epstein', 'epstein') 0.59700453\n",
      "('illegal_immigrants', 'illegals') 0.5922674\n"
     ]
    }
   ],
   "source": [
    "for pair, score in sorted(zip(misaligned, scores), key=lambda x:x[1], reverse=True)[:20]:\n",
    "    print(pair, score)"
   ]
  },
  {
   "cell_type": "code",
   "execution_count": 47,
   "metadata": {},
   "outputs": [
    {
     "name": "stdout",
     "output_type": "stream",
     "text": [
      "('=/', 'compose') 0.93772894\n",
      "('automatically', 'compose') 0.9272409\n",
      "('performed', 'compose') 0.9270565\n",
      "('subreddit', 'compose') 0.91976225\n",
      "('bot', 'compose') 0.9151716\n",
      "('concerns', 'compose') 0.909357\n",
      "('moderators', 'compose') 0.9054626\n",
      "('[', ']') 0.8976162\n",
      "('action', 'compose') 0.89207244\n",
      "('message', 'performed') 0.87207484\n",
      "('shorts', 'pants') 0.86476004\n",
      "('sister', 'brother') 0.8642143\n",
      "('shirts', 'leggings') 0.8639887\n",
      "('please', 'compose') 0.85940146\n",
      "('cheap', 'buy') 0.85615104\n",
      "('food', 'meal') 0.8556203\n",
      "('6', '5') 0.854324\n",
      "('buying', 'buy') 0.85293144\n",
      "('r', 'compose') 0.85048825\n",
      "('play', 'games') 0.84840715\n"
     ]
    }
   ],
   "source": [
    "# MY DATASET\n",
    "for pair, score in sorted(zip(misaligned, scores), key=lambda x:x[1], reverse=True)[:20]:\n",
    "    print(pair, score)"
   ]
  },
  {
   "cell_type": "markdown",
   "metadata": {},
   "source": [
    "### Antonyms"
   ]
  },
  {
   "cell_type": "code",
   "execution_count": 48,
   "metadata": {},
   "outputs": [
    {
     "name": "stderr",
     "output_type": "stream",
     "text": [
      "100%|██████████| 2828/2828 [00:09<00:00, 310.07it/s] \n"
     ]
    }
   ],
   "source": [
    "def get_antonyms(vocab):\n",
    "    antonyms = []\n",
    "    for w in tqdm(vocab):\n",
    "        for synset in wordnet.synsets(w):\n",
    "            for lemma in synset.lemmas():\n",
    "                if lemma.antonyms():\n",
    "                    antonyms.append((w, lemma.antonyms()[0].name()))\n",
    "    antonyms = set(antonyms)\n",
    "    return antonyms\n",
    "\n",
    "antonyms = get_antonyms(combo_vocab)"
   ]
  },
  {
   "cell_type": "code",
   "execution_count": 66,
   "metadata": {},
   "outputs": [
    {
     "name": "stdout",
     "output_type": "stream",
     "text": [
      "('civilian', 'military')\n",
      "('decrease', 'increase')\n",
      "('disagree', 'agree')\n",
      "('disrespect', 'respect')\n",
      "('illogical', 'logical')\n",
      "('inaccurate', 'accurate')\n",
      "('indirectly', 'directly')\n",
      "('ineffective', 'effective')\n",
      "('intolerant', 'tolerant')\n",
      "('invalid', 'valid')\n",
      "('liability', 'asset')\n",
      "('sell', 'buy')\n",
      "('sells', 'buy')\n",
      "('unreasonable', 'reasonable')\n",
      "('unwilling', 'willing')\n",
      "('weakness', 'strength')\n",
      "('west', 'east')\n"
     ]
    }
   ],
   "source": [
    "for mPair in misaligned:\n",
    "    if mPair in antonyms or (mPair[0], mPair[1]) in antonyms:\n",
    "        print(mPair)"
   ]
  },
  {
   "cell_type": "code",
   "execution_count": 49,
   "metadata": {},
   "outputs": [
    {
     "name": "stdout",
     "output_type": "stream",
     "text": [
      "('boy', 'girl')\n",
      "('disagree', 'agree')\n",
      "('expensive', 'cheap')\n",
      "('forward', 'back')\n",
      "('give', 'take')\n",
      "('light', 'dark')\n",
      "('male', 'female')\n",
      "('more', 'less')\n",
      "('particular', 'general')\n",
      "('positive', 'negative')\n",
      "('second', 'first')\n",
      "('sell', 'buy')\n",
      "('sister', 'brother')\n",
      "('small', 'big')\n",
      "('unfortunately', 'luckily')\n",
      "('white', 'black')\n",
      "('wife', 'husband')\n"
     ]
    }
   ],
   "source": [
    "# MY DATASET\n",
    "for mPair in misaligned:\n",
    "    if mPair in antonyms or (mPair[0], mPair[1]) in antonyms:\n",
    "        print(mPair)"
   ]
  },
  {
   "cell_type": "code",
   "execution_count": 129,
   "metadata": {},
   "outputs": [
    {
     "name": "stdout",
     "output_type": "stream",
     "text": [
      "0.5847953216374269% misaligned pairs from 'misaligned', in 'antonyms' set\n"
     ]
    }
   ],
   "source": [
    "print(\"{}% misaligned pairs from 'misaligned', in 'antonyms' set\".format(len([mPair for mPair in misaligned if mPair in antonyms or (mPair[0], mPair[1]) in antonyms])/len(misaligned)*100))"
   ]
  },
  {
   "cell_type": "code",
   "execution_count": 50,
   "metadata": {},
   "outputs": [
    {
     "name": "stdout",
     "output_type": "stream",
     "text": [
      "2.127659574468085% misaligned pairs from 'misaligned', in 'antonyms' set\n"
     ]
    }
   ],
   "source": [
    "# MY DATASET\n",
    "print(\"{}% misaligned pairs from 'misaligned', in 'antonyms' set\".format(len([mPair for mPair in misaligned if mPair in antonyms or (mPair[0], mPair[1]) in antonyms])/len(misaligned)*100))"
   ]
  },
  {
   "cell_type": "markdown",
   "metadata": {},
   "source": [
    "### Translation / Conceptual Homomorphisms"
   ]
  },
  {
   "cell_type": "code",
   "execution_count": 51,
   "metadata": {},
   "outputs": [],
   "source": [
    "unique_vocab = []\n",
    "for w in model_a.wv.vocab:\n",
    "    if w not in model_b.wv.vocab:\n",
    "        unique_vocab.append(w)"
   ]
  },
  {
   "cell_type": "code",
   "execution_count": 52,
   "metadata": {},
   "outputs": [],
   "source": [
    "translations = []\n",
    "scores = []\n",
    "for w in unique_vocab:\n",
    "    t = translator(w)\n",
    "    translations.append((w, t[0][0]))\n",
    "    scores.append(t[1][0])"
   ]
  },
  {
   "cell_type": "code",
   "execution_count": 69,
   "metadata": {},
   "outputs": [
    {
     "name": "stdout",
     "output_type": "stream",
     "text": [
      "('instructions_provided', 'performed_automatically') 0.71877486\n",
      "('permanent_ban', 'performed_automatically') 0.69331694\n",
      "('rule_violations', 'performed_automatically') 0.63353837\n",
      "('wishing_death/physical', 'performed_automatically') 0.594555\n",
      "('fully_participate', 'please_contact') 0.5898004\n",
      "('rulebreaking_content', 'performed_automatically') 0.5775635\n",
      "('`_youtu.be', '`') 0.55210274\n",
      "('spam_domain', 'performed_automatically') 0.5434005\n",
      "('/r/politics_within', 'performed_automatically') 0.52550036\n",
      "('troll_accusations', 'performed_automatically') 0.51061064\n",
      "('whitelisting', 'performed_automatically') 0.4963802\n",
      "('blatant_spam', 'performed_automatically') 0.48971322\n",
      "('confederate_flag', 'flag') 0.48527563\n",
      "('excluding_indians', 'persons') 0.48497242\n",
      "('site_administrators', 'link_shortener') 0.48107997\n",
      "('following_reason', 'submission') 0.48058963\n",
      "('alan_dershowitz', 'epstein') 0.48009375\n",
      "('drinking_water', 'water') 0.47866067\n",
      "('breaking_channel', 'link_shortener') 0.47774062\n",
      "('nonreputable_/', 'performed_automatically') 0.47719014\n"
     ]
    }
   ],
   "source": [
    "for pair, score in sorted(zip(translations, scores), key=lambda x:x[1], reverse=True)[:20]:\n",
    "    print(pair, score)"
   ]
  },
  {
   "cell_type": "code",
   "execution_count": 254,
   "metadata": {},
   "outputs": [
    {
     "name": "stdout",
     "output_type": "stream",
     "text": [
      "\u001b[1m\u001b[94maskmen\u001b[0m & \u001b[1m\u001b[91mcompose\u001b[0m, aligment score: 0.9154050946235657\n",
      "\u001b[1m\u001b[94maskmen\u001b[0m:\n",
      "your submission was removed by a computer . this could be for a number of reasons , most of which are summarized in the rules text on the right . in most of these cases , the computer is right , and we will not overturn its decision . if you have re-read your question and still think this is a failure of the automated filter , message us with an actual reason as to why the computer is wrong . if you just say that you think the computer is wrong without any reasoning , we will ignore you . * i am a bot , and this action was performed automatically . please [ contact the moderators of this subreddit ] ( / message / compose / ? to =/ r / \u001b[1m\u001b[94maskmen\u001b[0m ) if you have any questions or concerns . *\n",
      "\n",
      "\u001b[1m\u001b[91mcompose\u001b[0m:\n",
      "hello digital_curations . thank you for participating in / r / askwomen . however , your submission has been removed , because we do not allow personal advice or evaluation submissions . you can always go to / r / askwomenadvice , / r / relationships for romantic / non-romantic relationship advice , / r / legaladvice for legal advice , / r / femalefashionadvice for fashion advice , / r / skincareaddiction for skin care advice , or / r / findareddit if you dont know where else to go . please remember to read the rules of any subreddit you go to . if you think you received this message in error , please [ message the moderators ( click here ) ] ( HTTPURL post was removed for personal advice \" & message =) . do n't forget to link your post ! thanks . * i am a bot , and this action was performed automatically . please [ contact the moderators of this subreddit ] ( / message / \u001b[1m\u001b[91mcompose\u001b[0m / ? to =/ r / askwomen ) if you have any questions or concerns . *\n",
      "\n",
      "\u001b[1m\u001b[94mreasoning\u001b[0m & \u001b[1m\u001b[91mcompose\u001b[0m, aligment score: 0.8745595812797546\n",
      "\u001b[1m\u001b[94mreasoning\u001b[0m:\n",
      "your submission was removed by a computer . this could be for a number of reasons , most of which are summarized in the rules text on the right . in most of these cases , the computer is right , and we will not overturn its decision . if you have re-read your question and still think this is a failure of the automated filter , message us with an actual reason as to why the computer is wrong . if you just say that you think the computer is wrong without any \u001b[1m\u001b[94mreasoning\u001b[0m , we will ignore you . * i am a bot , and this action was performed automatically . please [ contact the moderators of this subreddit ] ( / message / compose / ? to =/ r / askmen ) if you have any questions or concerns . *\n",
      "\n",
      "\u001b[1m\u001b[91mcompose\u001b[0m:\n",
      "your comment has been removed because : your karma is too low to participate on askwomen . you will be able to participate when your karma has increased . * i am a bot , and this action was performed automatically . please [ contact the moderators of this subreddit ] ( / message / \u001b[1m\u001b[91mcompose\u001b[0m / ? to =/ r / askwomen ) if you have any questions or concerns . *\n",
      "\n",
      "\u001b[1m\u001b[94mtowel\u001b[0m & \u001b[1m\u001b[91mwet\u001b[0m, aligment score: 0.8496521711349487\n",
      "\u001b[1m\u001b[94mtowel\u001b[0m:\n",
      "i change my \u001b[1m\u001b[94mtowel\u001b[0ms once a week .\n",
      "\n",
      "\u001b[1m\u001b[91mwet\u001b[0m:\n",
      "washing dishes by hand , some of my aunts and even a coworker or two think it 's some kind of badge of honor to stand in front of the sink for 20 minutes getting your shirt \u001b[1m\u001b[91mwet\u001b[0m . if anything i resent the shit out of the pots and pans that do n't fit in my dishwasher .\n",
      "\n",
      "\u001b[1m\u001b[94mboots\u001b[0m & \u001b[1m\u001b[91mpair\u001b[0m, aligment score: 0.8394933342933655\n",
      "\u001b[1m\u001b[94mboots\u001b[0m:\n",
      "hello . i do this regularly . i do not wear \u001b[1m\u001b[94mboots\u001b[0m , but i do this with my dress shoes ( i work in an office ) . i have 2 pairs of boring black captoes , a pair of docksiders , a few more interesting colors / brogues for specific things , and 1 pair of slip on i wear on weekends . anything with a good welt will get repaired regularly . normally 1 pair needs a new heel or toe tap every 6 months or so . about once a year , one needs a full resole . i have not bought new shoes in a few years , and they all look great . my expenses per year on shoes is under $ 100 ( a resole is the biggie ) . if you take care of your shoes , they are a one time purchase . if you can not afford high end shoes , go to thrift stores and find something you can get repaired . most of my shoes are allen edmunds ( roughly $ 250-500 shoes new ) that i got for under $ 20 then normally needed at least a new heel if not a new sole . so completely restored , they are about $ 100 and as good as new .\n",
      "\n",
      "\u001b[1m\u001b[91mpair\u001b[0m:\n",
      "hate it . it 's better for the environment to buy one , high quality leather piece and wear it for your entire life , than 20 plastic items that fill up the dump . i 'm still trying to find the perfect \u001b[1m\u001b[91mpair\u001b[0m of real leather boots .\n",
      "\n",
      "\u001b[1m\u001b[94munattractive\u001b[0m & \u001b[1m\u001b[91mattractive\u001b[0m, aligment score: 0.837020754814148\n",
      "\u001b[1m\u001b[94munattractive\u001b[0m:\n",
      "too much makeup , really \u001b[1m\u001b[94munattractive\u001b[0m imo . i like it when a girl has minimal makeup and does n't need to cover her face with makeup to look good\n",
      "\n",
      "\u001b[1m\u001b[91mattractive\u001b[0m:\n",
      "1000 % . we are made for each other . it 's been over 11 years now . my biggest lesson from dating is never lose yourself . do not drop everything for a man , have your own life apart from him . it 's your independence and confidence that 's the most \u001b[1m\u001b[91mattractive\u001b[0m .\n",
      "\n",
      "\u001b[1m\u001b[94myea\u001b[0m & \u001b[1m\u001b[91myeah\u001b[0m, aligment score: 0.8167580962181091\n",
      "\u001b[1m\u001b[94myea\u001b[0m:\n",
      "my sister is a morning person . 60 \u001b[1m\u001b[94myea\u001b[0mrs old and still her favorite time to get up is 5am in the morning . i ; ve been a night owl all my life and have no idea how she does it . 5am is often when i got to bed . in fact it 's 5:55 am now and i will go to bed in another hour or so .\n",
      "\n",
      "\u001b[1m\u001b[91myeah\u001b[0m:\n",
      "\u001b[1m\u001b[91myeah\u001b[0m i feel this 100 % because if i had bigger boobs it would make my stomach appear smaller . my abdomen is n't particularly large but i look down and feel like it 's all i see and i 'm self-conscious about it .\n",
      "\n",
      "\u001b[1m\u001b[94mtaller\u001b[0m & \u001b[1m\u001b[91mheight\u001b[0m, aligment score: 0.8083593249320984\n",
      "\u001b[1m\u001b[94mtaller\u001b[0m:\n",
      "my earliest memory is being in a car with my mother . she has a handful of my hair , & is slamming my head against the window while screaming at me . i do not understand why . my mother continued using physical violence or the threat of it on me until i was 14 . she raised her hand threatening to hit me & even though she was still bigger than i was ( * she was 5 ' 10 ” , i was maybe 5 ' 4 ” at the time * ) i had enough . i simply said : “ no fucking way , not again , not ever . if you want to hit me , go ahead , but i am going to hit you back with everything that i have . * ” after that , over the next 20 years until she died , i can count the number of times she was physically violent with me on one hand & while i never did make good on my promise to punch her , i did respond with speed & violence to restrain her & make it damn clear that not only was it unacceptable but that if she was wanted to go that route , she was going to lose & badly . i am the only one of her children who ended up \u001b[1m\u001b[94mtaller\u001b[0m than her & as i am a large man , it was n't difficult for me to dominate her in such a situation . fortunately for me , that show of force & will was enough to deescalate the situation & being her back to reason because i honestly do n't know what i would have done if it had n't or how i would have lived with myself afterwards . as for my relationships . i have not had a single serious relationship where my partner was not violent with me . i have never , not even once , been violent with any one of them or used my strength for anything other than restraining them to prevent them from attacking me . it took me until my late 20s to realize that this was n't normal & was n't acceptable but even a decade later when i started dating my erstwhile wife , i struggled to stand my ground , struggled with feeling i deserved it & feeling that it was n't a big deal because i could take it . i mean , she was half my size , it was n't like she could really hurt me , it was really hard to come to the realization that it was n't the point . it did n't matter if she could or could not “ hurt ” me , no person should have to accept being attacked , beaten & degraded by someone who claims to love them . when i finally was able to convince myself of that , & call my wife out for her abusiveness , she agreed to go into therapy & for a while she made amazing progress . unfortunately , as time passed , she started going back to her old patterns ( * of physical , emotional & verbal abuse * ) until one day she told me that she was n't going to continue with her therapy because it was really all just my fault & her abusive behaviors were justified by my failings as a husband . i was then & am still now , completely , madly , head over heels in love with her but i filed for a separation the next day . when i gave her the papers , i told her that i still loved her , that i do not believe in divorce & had no intention of divorcing her , but i could not accept her abusive behavior & if she was n't going to be in therapy to work on those issues , i needed to separate myself to protect myself . her response was : “ * you do n't get to leave me , i 'm the one who should be leaving you . * ” 90 days later she filed to convert the separation into a divorce , i refused to sign the paperwork because i do n't believe in divorce & i knew that my signature was n't needed anyway . she has n't spoken to me since & i am heart broken . she is the love of my life but as much as i desperately want to have a relationship with her , i could n't continue * * that * * relationship & she chose her pride & her anger over our marriage so there was no option to have a healthy relationship with her . i doubt i 'll ever have another relationship , not because i am bitter , jaded or resentful rather that because the vows i made meant something to me , i do not make promises that i can not & will not keep . no man , no woman , nor god or court of law can change , alter or remove the vows i took & the vows i will keep . she is my wife , until death do us part . for me , the fact that we are separated , that we are not talking , that so court or some piece of paper says she is no longer my wife , does n't change my vows , it just mean she is being a shitty wife .\n",
      "\n",
      "\u001b[1m\u001b[91mheight\u001b[0m:\n",
      "i feel less invisible , tbh . i used to make myself as \" small \" and unobtrusive as possible - never spoke up , slouched , etc . i am very introverted . i 've lived / worked in places the last 10 + years where i am a minority or standout in other ways ( \u001b[1m\u001b[91mheight\u001b[0m , distinct accent . ) i got into the education field and i got comfortable speaking / teaching in front of others , but i still dislike being the center of attention . now i 'm in my late 30s and i have a solid understanding of who i am . i 'm still introverted but i will speak up in meetings and i 'm not afraid to make a scene if i feel in danger .\n",
      "\n",
      "\u001b[1m\u001b[94mflagged\u001b[0m & \u001b[1m\u001b[91mmessage\u001b[0m, aligment score: 0.8071189522743225\n",
      "\u001b[1m\u001b[94mflagged\u001b[0m:\n",
      "hi . we 've removed this post because reddit is not the place that you should go to for mental health counseling . we would highly recommend you seek out a therapist or speak with your primary care physician who can provide you with the correct resources . if those are not available to you , here 's some links that may help : [ rainn ] ( HTTPURL ) , [ nimh ] ( HTTPURL ) , [ uk stress support line ] ( HTTPURL ) , [ nhs mental health charity landing page ] ( HTTPURL ) , [ global health checkpoint landing page ] ( HTTPURL ) , [ global database for mental health lines for young people ] ( HTTPURL ) , [ vandrevala foundation india ] ( HTTPURL ) . if you have any questions or you feel like this post was \u001b[1m\u001b[94mflagged\u001b[0m in error , please [ message the moderators ] ( HTTPURL ) . * i am a bot , and this action was performed automatically . please [ contact the moderators of this subreddit ] ( / message / compose / ? to =/ r / askmen ) if you have any questions or concerns . *\n",
      "\n",
      "\u001b[1m\u001b[91mmessage\u001b[0m:\n",
      "removed for derailing . if you have any questions please \u001b[1m\u001b[91mmessage\u001b[0m the moderators through the link on the sidebar .\n",
      "\n",
      "\u001b[1m\u001b[94mtongue\u001b[0m & \u001b[1m\u001b[91mwet\u001b[0m, aligment score: 0.8066691160202026\n",
      "\u001b[1m\u001b[94mtongue\u001b[0m:\n",
      "meet the spartans is an objectively terrible movie that i find hilarious , but they had the line \" man 1 : kissing your women is so gay ! man 2 : how do you greet each other then ? man 1 : high five 's for the ladies , open mouth \u001b[1m\u001b[94mtongue\u001b[0m kisses for the guys ! \" lmao\n",
      "\n",
      "\u001b[1m\u001b[91mwet\u001b[0m:\n",
      "> shave with warm while your pores are open , rinse with cold to tighten them and prevent red bumps . i shave with soap and a brush , aka : \" \u001b[1m\u001b[91mwet\u001b[0m shave . \" this is the way it is done : warm first , then cold to close the pores . closed pores also helps to reduce the burn of after shave .\n",
      "\n",
      "\u001b[1m\u001b[94mweights\u001b[0m & \u001b[1m\u001b[91mexercise\u001b[0m, aligment score: 0.8024705052375793\n",
      "\u001b[1m\u001b[94mweights\u001b[0m:\n",
      "do something - every . single . day . do n't feel like lifting \u001b[1m\u001b[94mweights\u001b[0m ? go get on the treadmill for 20 or 30 minutes . triceps sore ? work your back . biceps sore ? work your chest . go ahead and buy that membership to the gym . put on your workout clothes and go before work . shower at the gym and leave fresh . change into your gear at work , and go after work . shower at the gym and go home fresh . you only need 2-3 weeks before it becomes habit and your body acclimates to the endorphins and soreness . you 'll start to see changes , albeit possibly small - but changes all the same , and wo n't want to stop . study upon supplements like bcaas , protein intake , pre-workout , etc . study bodybuilding diets . keeping your mind and body connected to it , will help motivate you . stay motivated . stay diligent . stay off the scales .\n",
      "\n",
      "\u001b[1m\u001b[91mexercise\u001b[0m:\n",
      "meditation or breathing \u001b[1m\u001b[91mexercise\u001b[0ms . it 's free to breathe ! note : it is not a substitute for any sort of legitimate medical treatment but i find it helps me calm down and feel relaxed .\n",
      "\n",
      "\u001b[1m\u001b[94mautomated\u001b[0m & \u001b[1m\u001b[91mcompose\u001b[0m, aligment score: 0.8000394701957703\n",
      "\u001b[1m\u001b[94mautomated\u001b[0m:\n",
      "your submission was removed by a computer . this could be for a number of reasons , most of which are summarized in the rules text on the right . in most of these cases , the computer is right , and we will not overturn its decision . if you have re-read your question and still think this is a failure of the \u001b[1m\u001b[94mautomated\u001b[0m filter , message us with an actual reason as to why the computer is wrong . if you just say that you think the computer is wrong without any reasoning , we will ignore you . * i am a bot , and this action was performed automatically . please [ contact the moderators of this subreddit ] ( / message / compose / ? to =/ r / askmen ) if you have any questions or concerns . *\n",
      "\n",
      "\u001b[1m\u001b[91mcompose\u001b[0m:\n",
      "your submission has been removed because your title does not include a question mark . please ensure your title is properly formatted to be a descriptive , open-ended question . if you think you have received this message in error , please [ message the moderators ( click here ) ] ( HTTPURL post was removed for lacking a question mark \" & message =) . thanks . * i am a bot , and this action was performed automatically . please [ contact the moderators of this subreddit ] ( / message / \u001b[1m\u001b[91mcompose\u001b[0m / ? to =/ r / askwomen ) if you have any questions or concerns . *\n",
      "\n",
      "\u001b[1m\u001b[94mpounds\u001b[0m & \u001b[1m\u001b[91mweight\u001b[0m, aligment score: 0.7972006797790527\n",
      "\u001b[1m\u001b[94mpounds\u001b[0m:\n",
      "something in my look seem to not scare people no matter i am 6 ' 1 and 200 + \u001b[1m\u001b[94mpounds\u001b[0m bodybuilder type of physique guy ... & #x200b ; i always wanted to drop a deep tone when near someone in the dark and say : \" give me your wallet \" , but i know it wo n't work ...\n",
      "\n",
      "\u001b[1m\u001b[91mweight\u001b[0m:\n",
      "it started happening when i was 9 . it basically stopped around 29 . im not sure whether it 's because i always have my little boy with me or because i have n't shed the pregnancy \u001b[1m\u001b[91mweight\u001b[0m . either way i 'm relieved . nowadays instead of catcalls i get 60 + yo men trying to chat me up .\n",
      "\n",
      "\u001b[1m\u001b[94mlifting\u001b[0m & \u001b[1m\u001b[91mexercise\u001b[0m, aligment score: 0.7961577773094177\n",
      "\u001b[1m\u001b[94mlifting\u001b[0m:\n",
      "i do n't feel unsafe and i 'm more likely to go out walking than most of my other friends . however ... i am 6 ' 0 and do weight\u001b[1m\u001b[94mlifting\u001b[0m & box for fun . this is n't to say that i 'm gonna john wick anyone who messes with me but to say that people do n't approach me at all . in fact , i 'm more likely to be viewed as a threat because of the way i look . there 's also the race factor that does not get included in this conversation enough ; i have had friends who have the cops called on them when they 're out walking because they \" did n't look like they belonged there . \" you get three guesses why and the first two do n't count .\n",
      "\n",
      "\u001b[1m\u001b[91mexercise\u001b[0m:\n",
      "i recently have been putting more effort into and taking more time to do skincare , haircare , \u001b[1m\u001b[91mexercise\u001b[0m , and making myself look nice . it has been helping me relax more and it 's just a nice time to reflect and to do some self-care . it 's also been helping me in terms of my confidence since i know that i put effort into my appearance .\n",
      "\n",
      "\u001b[1m\u001b[94mfilter\u001b[0m & \u001b[1m\u001b[91mcompose\u001b[0m, aligment score: 0.7947900295257568\n",
      "\u001b[1m\u001b[94mfilter\u001b[0m:\n"
     ]
    },
    {
     "name": "stdout",
     "output_type": "stream",
     "text": [
      "your submission was removed by a computer . this could be for a number of reasons , most of which are summarized in the rules text on the right . in most of these cases , the computer is right , and we will not overturn its decision . if you have re-read your question and still think this is a failure of the automated \u001b[1m\u001b[94mfilter\u001b[0m , message us with an actual reason as to why the computer is wrong . if you just say that you think the computer is wrong without any reasoning , we will ignore you . * i am a bot , and this action was performed automatically . please [ contact the moderators of this subreddit ] ( / message / compose / ? to =/ r / askmen ) if you have any questions or concerns . *\n",
      "\n",
      "\u001b[1m\u001b[91mcompose\u001b[0m:\n",
      "hello kaleyt 21 . thank you for participating in / r / askwomen . however , your submission has been removed , because we do not allow personal advice or evaluation submissions . you can always go to / r / askwomenadvice , / r / relationships for romantic / non-romantic relationship advice , / r / legaladvice for legal advice , / r / femalefashionadvice for fashion advice , / r / skincareaddiction for skin care advice , or / r / findareddit if you dont know where else to go . please remember to read the rules of any subreddit you go to . if you think you received this message in error , please [ message the moderators ( click here ) ] ( HTTPURL post was removed for personal advice \" & message =) . do n't forget to link your post ! thanks . * i am a bot , and this action was performed automatically . please [ contact the moderators of this subreddit ] ( / message / \u001b[1m\u001b[91mcompose\u001b[0m / ? to =/ r / askwomen ) if you have any questions or concerns . *\n",
      "\n",
      "\u001b[1m\u001b[94mre-read\u001b[0m & \u001b[1m\u001b[91mcompose\u001b[0m, aligment score: 0.7823028564453125\n",
      "\u001b[1m\u001b[94mre-read\u001b[0m:\n",
      "your submission was removed by a computer . this could be for a number of reasons , most of which are summarized in the rules text on the right . in most of these cases , the computer is right , and we will not overturn its decision . if you have \u001b[1m\u001b[94mre-read\u001b[0m your question and still think this is a failure of the automated filter , message us with an actual reason as to why the computer is wrong . if you just say that you think the computer is wrong without any reasoning , we will ignore you . * i am a bot , and this action was performed automatically . please [ contact the moderators of this subreddit ] ( / message / compose / ? to =/ r / askmen ) if you have any questions or concerns . *\n",
      "\n",
      "\u001b[1m\u001b[91mcompose\u001b[0m:\n",
      "your comment has been removed because : your karma is too low to participate on askwomen . you will be able to participate when your karma has increased . * i am a bot , and this action was performed automatically . please [ contact the moderators of this subreddit ] ( / message / \u001b[1m\u001b[91mcompose\u001b[0m / ? to =/ r / askwomen ) if you have any questions or concerns . *\n",
      "\n",
      "\u001b[1m\u001b[94mmuscles\u001b[0m & \u001b[1m\u001b[91mmuscle\u001b[0m, aligment score: 0.780255138874054\n",
      "\u001b[1m\u001b[94mmuscles\u001b[0m:\n",
      "balance your workouts . do n't just try to get big biceps and chest . you do n't want to look top heavy with scrawny legs . it 's not about looking buff , it 's about a healthy , active lifestyle . also , it takes time so stick with it . you wo n't suddenly have huge \u001b[1m\u001b[94mmuscles\u001b[0m . eat right , exercise and stay positive .\n",
      "\n",
      "\u001b[1m\u001b[91mmuscle\u001b[0m:\n",
      "i used to lift weights and the changes are amazing . * better posture because having back \u001b[1m\u001b[91mmuscle\u001b[0m pulls back your shoulders and you get better core strength . * freaky skinny tummy . i did n't do ab exercises , but got the \" vacuum \" affect from the core strength that comes with lifting . * everything is just easier ? lifting boxes , moving around , it 's like having a cheat code for mobility . * clothes fit better . * you can eat . the \u001b[1m\u001b[91mmuscle\u001b[0m burns more than the sum of your exercises , and wow does it build up . i have some physical issues and getting back to lifting weights is the dream for me .\n",
      "\n",
      "\u001b[1m\u001b[94mbud\u001b[0m & \u001b[1m\u001b[91moh\u001b[0m, aligment score: 0.7791710495948792\n",
      "\u001b[1m\u001b[94mbud\u001b[0m:\n",
      "she is , total sweetheart . unfortunately , debilitating mental health took away our relationship . nothing bad happened between us , just can't balance a \u001b[1m\u001b[94mbud\u001b[0mding relationship while fighting a really bad dissociative / depressive episode . really sad , i miss her every day .\n",
      "\n",
      "\u001b[1m\u001b[91moh\u001b[0m:\n",
      "\u001b[1m\u001b[91moh\u001b[0m the askwomen over 30 in a post about consent and being sexually involved with your boss i pointed out that it 's legally statutory rape since consent can not be obtained if there is a authority relationship ( boss , coach , recruiter ) and they downvoted the hell out of the comment . i was very sad for them tbh since that 's basically the basis of #metoo and a lot of education of consent nowadays but older women seemed very against it ...\n",
      "\n",
      "\u001b[1m\u001b[94mdollars\u001b[0m & \u001b[1m\u001b[91m$\u001b[0m, aligment score: 0.773277759552002\n",
      "\u001b[1m\u001b[94mdollars\u001b[0m:\n",
      "we definitely like useful lights too . but mostly we 're people who spend several hundred \u001b[1m\u001b[94mdollars\u001b[0m on a new flashlight so that we can go \" neat \" and then pester our clearly uninterested significant other about how cool it is , despite the fact that they obviously did n't care about the last 7 lights we bought .\n",
      "\n",
      "\u001b[1m\u001b[91m$\u001b[0m:\n",
      "just shy of 10k . 50 % is pua and the other realty is 8 no of being disciplined ... in nyc dollars , that 's about 2.5- 3 month worth of rent after essentials ( food / wi-fi / electric / misc bills ) and very light leisure / yes i know but idc the guac is an \u001b[1m\u001b[91m$\u001b[0m 1.50 kinda money .\n",
      "\n",
      "\u001b[1m\u001b[94mtrade\u001b[0m & \u001b[1m\u001b[91mdegree\u001b[0m, aligment score: 0.7731598615646362\n",
      "\u001b[1m\u001b[94mtrade\u001b[0m:\n",
      "ooooo , a url \u001b[1m\u001b[94mtrade\u001b[0m ! [ how exciting ! ] ( HTTPURL )\n",
      "\n",
      "\u001b[1m\u001b[91mdegree\u001b[0m:\n",
      "no , i asked because i can't help with the financial part . i 'm spoiled and my family paid tuition , haha . i can help with the psychological aspect ! so , first off , my main issue was feeling like i was so behind . i could n't see the positive side of my situation . i dropped out of high school and started college in my early 20s , transferred to a prestigious private uni to study engineering , and still felt like a failure because i did n't have the 18-22 college experience i “ should 've ” had . when you graduate , you 're not gonna be a person that finished college late . you 're just gonna be a college grad . try to remember that , be kind to yourself , and try to make peace with the fact that you have your own personal timeline and it does not reflect on your intelligence , dedication , or value as a person . i recommend reaching out to other non-traditional students . try to look for gi bill students , second bachelor 's students , any group that tends to be older . you can even try meeting some grad students ! i was young enough to get along with traditional-aged students , but social isolation can be very difficult and it should be a priority to try and find people closer to your age so you do n't feel so alone . seeing people your age and older excel and enjoy life as fellow students is great for your self-esteem . i met quite a few people in their mid-late 20s , a decent amount in their 30s , even some in their 40s . this was at a private uni and non-traditional students are less likely to attend private unis , so public unis and community colleges should have many , many more older students . you will definitely not be alone . academically , try to remember not to compare yourself to your traditional-aged peers because you 're not a traditional student . they 've been in school mode their whole lives , but you paused school mode to work , take care of adult matters , raise kids , or do whatever it was you did before you went back to school . it can take some time to get back into the swing of things . you do n't need straight as , just being able to hold down the fort is amazing enough . i had to teach myself several years worth of math and science to get on the same level as my peers and maintain a 4.0 , i regret sacrificing years of happiness ( and sleep ... and a social life ... and basic self care ) for straight as . going to college is awesome at any age . you will be okay . take care of yourself , be proud , and remember a \u001b[1m\u001b[91mdegree\u001b[0m can only help you in the long run .\n",
      "\n",
      "\u001b[1m\u001b[94msuit\u001b[0m & \u001b[1m\u001b[91mdress\u001b[0m, aligment score: 0.7667310237884521\n",
      "\u001b[1m\u001b[94msuit\u001b[0m:\n",
      "that 's not bad , but you 're still not being realistic . you have very little muscle . you are going to lose some of it if you do an intense 2 month diet and workout routine . you will look skinnier and less muscular at the end . do n't even worry about preserving your muscle or building it in a recomp while you 're getting ready for your wedding . it 's too many things to think about and you can easily fuck it up and end up not gaining muscle or losing weight . just stay active like you 're doing , lift , and stop eating so many calories . even losing 5 to 10 pounds is going to make a big difference in how a \u001b[1m\u001b[94msuit\u001b[0m hangs off you .\n",
      "\n",
      "\u001b[1m\u001b[91mdress\u001b[0m:\n",
      "\u001b[1m\u001b[91mdress\u001b[0mes it 's an outfit in one and you can wear whatever shows you want does n't have to be heels .\n",
      "\n"
     ]
    }
   ],
   "source": [
    "# MY DATASET\n",
    "\n",
    "for pair, score in sorted(zip(translations, scores), key=lambda x:x[1], reverse=True)[:20]:\n",
    "    word_a_highlighted = '{}{}{}'.format(color.BOLD + color.BLUE, pair[0], color.END)\n",
    "    word_b_highlighted = '{}{}{}'.format(color.BOLD + color.RED, pair[1], color.END)\n",
    "    print(word_a_highlighted + ' & ' + word_b_highlighted + ', aligment score: {}'.format(score))\n",
    "    \n",
    "    # print word_a_highlighted, and example sentences\n",
    "    print('{}:'.format(word_a_highlighted))\n",
    "    [print(s.replace(pair[0], word_a_highlighted)) for s in get_example_sentences(pair[0], corpus_a, n_sentences=n_sentences, seed=seed)]\n",
    "    \n",
    "    # print word_b_highlighted, and example sentences\n",
    "    print('{}:'.format(word_b_highlighted))\n",
    "    [print(s.replace(pair[1], word_b_highlighted)) for s in get_example_sentences(pair[1], corpus_b, n_sentences=n_sentences, seed=seed)]\n",
    "    "
   ]
  },
  {
   "cell_type": "code",
   "execution_count": null,
   "metadata": {},
   "outputs": [],
   "source": []
  }
 ],
 "metadata": {
  "kernelspec": {
   "display_name": "Python 3 (ipykernel)",
   "language": "python",
   "name": "python3"
  },
  "language_info": {
   "codemirror_mode": {
    "name": "ipython",
    "version": 3
   },
   "file_extension": ".py",
   "mimetype": "text/x-python",
   "name": "python",
   "nbconvert_exporter": "python",
   "pygments_lexer": "ipython3",
   "version": "3.8.12"
  }
 },
 "nbformat": 4,
 "nbformat_minor": 4
}
