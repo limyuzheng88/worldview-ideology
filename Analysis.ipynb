{
 "cells": [
  {
   "cell_type": "code",
   "execution_count": 117,
   "metadata": {},
   "outputs": [
    {
     "name": "stderr",
     "output_type": "stream",
     "text": [
      "[nltk_data] Downloading package wordnet to\n",
      "[nltk_data]     C:\\Users\\Dell\\AppData\\Roaming\\nltk_data...\n",
      "[nltk_data]   Package wordnet is already up-to-date!\n"
     ]
    }
   ],
   "source": [
    "import pickle\n",
    "from tqdm import tqdm\n",
    "import os\n",
    "\n",
    "from gensim.models.word2vec import Word2Vec\n",
    "import numpy as np\n",
    "from sklearn.cross_decomposition import CCA\n",
    "from sklearn.metrics.pairwise import cosine_similarity\n",
    "import json\n",
    "from nltk.corpus import stopwords, wordnet\n",
    "import nltk\n",
    "nltk.download('wordnet')\n",
    "import random"
   ]
  },
  {
   "cell_type": "markdown",
   "metadata": {},
   "source": [
    "# Worldview & Ideology Analysis"
   ]
  },
  {
   "cell_type": "markdown",
   "metadata": {},
   "source": [
    "This notebook contains examples of how to perform the analysis from \"Aligning Multidimensional Worldviews and Discovering Ideological Differences\" (Milbauer et al., 2021)"
   ]
  },
  {
   "cell_type": "markdown",
   "metadata": {},
   "source": [
    "## Load corpora"
   ]
  },
  {
   "cell_type": "code",
   "execution_count": 64,
   "metadata": {},
   "outputs": [],
   "source": [
    "source_a, source_b = 'subreddit_askmen', 'subreddit_askwomen'\n",
    "with open('./corpus/{}.txt'.format(source_a), encoding='utf-8') as f:\n",
    "    corpus_a = f.readlines()\n",
    "with open('./corpus/{}.txt'.format(source_b), encoding='utf-8') as f:\n",
    "    corpus_b = f.readlines()"
   ]
  },
  {
   "cell_type": "markdown",
   "metadata": {},
   "source": [
    "## Loading the trained embeddings"
   ]
  },
  {
   "cell_type": "markdown",
   "metadata": {},
   "source": [
    "First, we load the trained embeddings, and quickly examine them to see if they make sense.\n",
    "We are using small text samples (500k tokens), so embeddings may not be very good."
   ]
  },
  {
   "cell_type": "code",
   "execution_count": 122,
   "metadata": {},
   "outputs": [
    {
     "name": "stdout",
     "output_type": "stream",
     "text": [
      "('republican', 0.6307386159896851)\n",
      "('dem', 0.6165011525154114)\n",
      "('democrats', 0.6043610572814941)\n",
      "('democratic', 0.5978788137435913)\n",
      "('dems', 0.49818018078804016)\n",
      "('liberal', 0.48974037170410156)\n",
      "('candidate', 0.4867892265319824)\n",
      "('party', 0.4780939519405365)\n",
      "('republicans', 0.477538526058197)\n",
      "('progressive', 0.4756127595901489)\n",
      "\n",
      "('dem', 0.6980773210525513)\n",
      "('republican', 0.6605644226074219)\n",
      "('democratic', 0.6189409494400024)\n",
      "('democrats', 0.6140726804733276)\n",
      "('party', 0.6009922623634338)\n",
      "('dems', 0.48170965909957886)\n",
      "('liberal', 0.4369395971298218)\n",
      "('leftist', 0.42886313796043396)\n",
      "('left', 0.4251934587955475)\n",
      "('candidates', 0.4231654405593872)\n"
     ]
    }
   ],
   "source": [
    "model_a = Word2Vec.load('models/politics.word2vec.model')\n",
    "model_b = Word2Vec.load('models/the_donald.word2vec.model')\n",
    "# pretrained on more data\n",
    "# model_a = Word2Vec.load('models/politics.big.model')\n",
    "# model_b = Word2Vec.load('models/the_donald.big.model')\n",
    "\n",
    "posWords = ['democrat']\n",
    "negWords = []\n",
    "for x in model_a.wv.most_similar(positive=posWords, negative=negWords):\n",
    "    print(x)\n",
    "print()\n",
    "for x in model_b.wv.most_similar(positive=posWords, negative=negWords):\n",
    "    print(x)"
   ]
  },
  {
   "cell_type": "code",
   "execution_count": 54,
   "metadata": {},
   "outputs": [
    {
     "name": "stdout",
     "output_type": "stream",
     "text": [
      "('addiction', 0.674181342124939)\n",
      "('watching', 0.5972264409065247)\n",
      "('watch', 0.5872642993927002)\n",
      "('watched', 0.5676982402801514)\n",
      "('modern', 0.561260461807251)\n",
      "('fantasy', 0.5315399765968323)\n",
      "('content', 0.5298962593078613)\n",
      "('argue', 0.5205428600311279)\n",
      "('becomes', 0.5109003186225891)\n",
      "('sexuality', 0.5108972787857056)\n",
      "\n",
      "('creepy', 0.5877805948257446)\n",
      "('attracted', 0.5398934483528137)\n",
      "('pleasure', 0.5357645750045776)\n",
      "('flirting', 0.5247712135314941)\n",
      "('man', 0.5183247327804565)\n",
      "('sexually', 0.5093643665313721)\n",
      "('watching', 0.5009644031524658)\n",
      "('dudes', 0.49731189012527466)\n",
      "('hitting', 0.4970484673976898)\n",
      "('anime', 0.4925317168235779)\n"
     ]
    }
   ],
   "source": [
    "# MY DATASET\n",
    "\n",
    "model_a = Word2Vec.load('data/models/{}.model'.format(source_a))\n",
    "model_b = Word2Vec.load('data/models/{}.model'.format(source_b))\n",
    "# pretrained on more data\n",
    "# model_a = Word2Vec.load('models/politics.big.model')\n",
    "# model_b = Word2Vec.load('models/the_donald.big.model')\n",
    "\n",
    "posWords = ['men', 'porn']\n",
    "negWords = ['women']\n",
    "for x in model_a.wv.most_similar(positive=posWords, negative=negWords):\n",
    "    print(x)\n",
    "print()\n",
    "for x in model_b.wv.most_similar(positive=posWords, negative=negWords):\n",
    "    print(x)"
   ]
  },
  {
   "cell_type": "markdown",
   "metadata": {},
   "source": [
    "## Aligning the embeddings"
   ]
  },
  {
   "cell_type": "markdown",
   "metadata": {},
   "source": [
    "First, we find the overlapping vocabulary of the two models, and use this to construct an embedding matrix for each model."
   ]
  },
  {
   "cell_type": "code",
   "execution_count": 23,
   "metadata": {},
   "outputs": [],
   "source": [
    "vocab_a = list(set(model_a.wv.vocab.keys()))\n",
    "vocab_b = list(set(model_b.wv.vocab.keys()))\n",
    "\n",
    "shared_vocab = set.intersection(set(vocab_a),\n",
    "                                set(vocab_b))\n",
    "shared_vocab = list(sorted(list(shared_vocab)))\n",
    "combo_vocab = set.union(set(vocab_a),\n",
    "                                set(vocab_b))\n",
    "\n",
    "w2idx = { w:i for i,w in enumerate(shared_vocab) }\n",
    "a2idx = { w:i for i,w in enumerate(vocab_a) }\n",
    "idx2b = { i:w for i,w in enumerate(vocab_b) }\n",
    "\n",
    "mtxA = np.vstack([model_a.wv[w] for w in shared_vocab])\n",
    "mtxB = np.vstack([model_b.wv[w] for w in shared_vocab])\n",
    "mtxA_ = np.vstack([model_a.wv[w] for w in vocab_a])\n",
    "mtxB_ = np.vstack([model_b.wv[w] for w in vocab_b])"
   ]
  },
  {
   "cell_type": "markdown",
   "metadata": {},
   "source": [
    "We then select only the N most common words as anchors to train our alignment. (If you're using the big model, this won't quite work because the vocabularies are different.)"
   ]
  },
  {
   "cell_type": "code",
   "execution_count": 24,
   "metadata": {},
   "outputs": [],
   "source": [
    "counts = pickle.load(open('data/counts.pkl', 'rb'))\n",
    "n = 5000\n",
    "topN = [y for x,y in sorted([(counts[w], w) for w in w2idx if w in counts], reverse=True)][:n] #w2idx is from shared_vocab\n",
    "idxs = [w2idx[w] for w in topN]"
   ]
  },
  {
   "cell_type": "code",
   "execution_count": 25,
   "metadata": {},
   "outputs": [],
   "source": [
    "anchorA = mtxA[idxs, :]\n",
    "anchorB = mtxB[idxs, :]"
   ]
  },
  {
   "cell_type": "markdown",
   "metadata": {},
   "source": [
    "Next, we use two different techniques for aligning the embeddings: SVD and CCA"
   ]
  },
  {
   "cell_type": "code",
   "execution_count": 26,
   "metadata": {},
   "outputs": [],
   "source": [
    "def align_svd(source, target):\n",
    "    product = np.matmul(source.transpose(), target)\n",
    "    U, s, V = np.linalg.svd(product)\n",
    "    T = np.matmul(U,V)\n",
    "    return T\n",
    "\n",
    "svd = align_svd(anchorA, anchorB)\n",
    "svdA = mtxA_.dot(svd)\n",
    "svdB = mtxB_"
   ]
  },
  {
   "cell_type": "code",
   "execution_count": 27,
   "metadata": {},
   "outputs": [],
   "source": [
    "def align_cca(source, target):\n",
    "    N_dims = source.shape[1]\n",
    "    cca = CCA(n_components=N_dims, max_iter=2000)\n",
    "    cca.fit(source, target)\n",
    "    return cca\n",
    "\n",
    "cca = align_cca(anchorA, anchorB)\n",
    "ccaA, ccaB = cca.transform(mtxA, mtxB)"
   ]
  },
  {
   "cell_type": "code",
   "execution_count": 28,
   "metadata": {},
   "outputs": [],
   "source": [
    "def build_translator(a, b, a2idx, idx2b):\n",
    "    sims = cosine_similarity(a, b)\n",
    "    most_sims = np.argsort(sims, axis=1)[:, ::-1]\n",
    "    \n",
    "    def translator(w, k=1):\n",
    "        idx = a2idx[w]\n",
    "        idxs = most_sims[idx, :k]\n",
    "        words = [idx2b[i] for i in idxs]\n",
    "        return words, sims[idx, idxs]\n",
    "    \n",
    "    return translator"
   ]
  },
  {
   "cell_type": "code",
   "execution_count": 29,
   "metadata": {},
   "outputs": [],
   "source": [
    "translator = build_translator(svdA, svdB, a2idx, idx2b)"
   ]
  },
  {
   "cell_type": "markdown",
   "metadata": {},
   "source": [
    "## Exploring the Alignment"
   ]
  },
  {
   "cell_type": "markdown",
   "metadata": {},
   "source": [
    "We now explore three different ways of using the alignmed embeddings to explore the worldview and ideology of the two communities."
   ]
  },
  {
   "cell_type": "code",
   "execution_count": 92,
   "metadata": {},
   "outputs": [
    {
     "data": {
      "text/plain": [
       "(['democrat', 'republican', 'dem', 'democrats', 'republicans'],\n",
       " array([0.6164709 , 0.5891098 , 0.5137549 , 0.4719857 , 0.46580008],\n",
       "       dtype=float32))"
      ]
     },
     "execution_count": 92,
     "metadata": {},
     "output_type": "execute_result"
    }
   ],
   "source": [
    "translator('democrat', k=5)"
   ]
  },
  {
   "cell_type": "code",
   "execution_count": 45,
   "metadata": {},
   "outputs": [
    {
     "data": {
      "text/plain": [
       "(['lol', 'haha', 'yeah', ':face_with_tears_of_joy:', 'idk'],\n",
       " array([0.79610276, 0.7740769 , 0.7501412 , 0.74681777, 0.7448173 ],\n",
       "       dtype=float32))"
      ]
     },
     "execution_count": 45,
     "metadata": {},
     "output_type": "execute_result"
    }
   ],
   "source": [
    "# MY DATASET\n",
    "translator('lol', k=5)"
   ]
  },
  {
   "cell_type": "code",
   "execution_count": 233,
   "metadata": {},
   "outputs": [
    {
     "name": "stdout",
     "output_type": "stream",
     "text": [
      "'sex' in source_a (1 example sentence below):\n",
      "are you taking the piss or never had a sexual.experience\n",
      "\n",
      "translates to source_b words:\n",
      "\n",
      "('intimacy', 0.72380346)\n",
      "['what about truth ? people can fake intimacy , care etc but how can someone fake truth ?\\n']\n",
      "\n",
      "('sex', 0.7049535)\n",
      "[\"... what ? lol . why birds though ? ? ? is it sexist to call men pigs , dogs , or snakes ? it 's dumb but i do n't think calling women birds is sexist . also have no idea on the background context as to why we would be called that .\\n\"]\n",
      "\n",
      "('pleasure', 0.6929905)\n",
      "[\"simple : he ignored me . my first ( and only ) sexual partner was someone that i can only describe as ” porn sick “ ( i know this term may be a bit harsh , but it 's the only one that describes him ) in that most of his skills were taken straight from porn ( me having to give him blowjobs that lasted forever , changing into camera-friendly positions every 30 seconds ( it 's true , i counted ! ) , no foreplay for me , no focus on my pleasure , incapable of orgasming without the help of his hand , and so much more . ) in hindsight , he pretty much used me as a warmed up fleshlight and nothing else . during one of our “ sessions ” , he suddenly was very eager for me to come on his dick . now , the problem was that due to his aforementioned pornsickness , i was about as aroused as a 5000 year old mummy , so there was so chance that this was going to happen . as he began to notice that my orgasm was still light years away , he became more and more aggrevated which culminated in him screaming “ come on my dick ! come one my dick ! why are n't you coming on my dick ? ! ” to which i just responded “ fucking make me ! ” because honestly at this point i was just done . he did n't . he just finished by jerking himself off ( he also gave me a facial without my permission , so that was fun ) . told me i was terrible in bed and kicked me out .\\n\"]\n",
      "\n",
      "('intimate', 0.6702367)\n",
      "['unfortunately , yes . if there is a situation where i feel like i can not be openly emotional about it i tell myself , \" you have one day to be sad \" . usually , in my more intimate relationships , i think this has led to me thinking if i act like i do n\\'t care , then maybe i really wo n\\'t . it hurts , but right now it \\'s working for me . i have yet to meet someone who is okay with me showing how openly emotional i want to be .\\n']\n",
      "\n",
      "('partner', 0.6552493)\n",
      "[\"inappropriate gestures and words aside ... i 'd like to be spoken to as an equal when it comes to technology or mechanics in shops and garages . and in restaurants if i 'm with a male i 'd like to be addressed first occasionally . i have lost count of the times i am looked over if i 'm with a male friend or partner . the assistant usually always addresses my friend first even though it 's me who is wanting to buy the new phone / laptop or get my car looked at . i 'm always overcharged compared to my male friends and have had to double check everything i 'm quoted just to make sure i 'm not being ripped off .\\n\"]\n",
      "\n"
     ]
    }
   ],
   "source": [
    "# function to get example sentences that contain said word\n",
    "from IPython.display import Markdown, display\n",
    "\n",
    "def printmd(string, color=None):\n",
    "    colorstr = \"<span style='color:{}'>{}</span>\".format(color, string)\n",
    "    display(Markdown(colorstr))\n",
    "    \n",
    "def get_example_sentences(word, corpus, n_sentences=1, seed=None):\n",
    "    random.seed(a=seed) #fix seed if needed. removes randomness, and fixes the output as a constant\n",
    "    sentences = random.sample([s for s in corpus if word in s], n_sentences)\n",
    "    return sentences\n",
    "\n",
    "n_sentences = 1\n",
    "\n",
    "word_a = 'sex'\n",
    "sentence_a = get_example_sentences(word_a, corpus_a, n_sentences)\n",
    "print('\\'{}\\' in source_a ({} example sentence below):'.format(word_a, n_sentences))\n",
    "[print(s) for s in sentence_a]\n",
    "\n",
    "word_b = translator(word_a, k=5)\n",
    "print('translates to source_b words:\\n')\n",
    "for w in zip(translator(word_a, k=5)[0], translator(word_a, k=5)[1]):\n",
    "    sentence_b = get_example_sentences(w[0], corpus_b, n_sentences)\n",
    "    print('{}\\n{}\\n'.format(w, [s for s in sentence_b]))"
   ]
  },
  {
   "cell_type": "markdown",
   "metadata": {},
   "source": [
    "### Misalignment"
   ]
  },
  {
   "cell_type": "code",
   "execution_count": 62,
   "metadata": {},
   "outputs": [
    {
     "name": "stdout",
     "output_type": "stream",
     "text": [
      "0.3664901664145234\n"
     ]
    }
   ],
   "source": [
    "misaligned = []\n",
    "scores = []\n",
    "\n",
    "for w in shared_vocab:\n",
    "    w_ = translator(w)[0][0]\n",
    "    s = translator(w)[1][0]\n",
    "    if w != w_:\n",
    "        misaligned.append((w, w_))\n",
    "        scores.append(s)\n",
    "        \n",
    "print(len(misaligned) / len(shared_vocab))"
   ]
  },
  {
   "cell_type": "code",
   "execution_count": 46,
   "metadata": {},
   "outputs": [
    {
     "name": "stdout",
     "output_type": "stream",
     "text": [
      "0.38506024096385544\n"
     ]
    }
   ],
   "source": [
    "# MY DATASET\n",
    "misaligned = []\n",
    "scores = []\n",
    "\n",
    "for w in shared_vocab:\n",
    "    w_ = translator(w)[0][0]\n",
    "    s = translator(w)[1][0]\n",
    "    if w != w_:\n",
    "        misaligned.append((w, w_))\n",
    "        scores.append(s)\n",
    "        \n",
    "print(len(misaligned) / len(shared_vocab))"
   ]
  },
  {
   "cell_type": "code",
   "execution_count": 64,
   "metadata": {},
   "outputs": [
    {
     "name": "stdout",
     "output_type": "stream",
     "text": [
      "('performed_automatically', 'please_contact') 0.8923226\n",
      "('moderators', 'please_contact') 0.8301286\n",
      "('``', \"''\") 0.7827312\n",
      "('&', 'gt') 0.74673975\n",
      "('bot', 'performed_automatically') 0.7402881\n",
      "(';', 'gt') 0.71963507\n",
      "('though', 'but') 0.7046928\n",
      "('citizenship_question', 'census') 0.68586487\n",
      "('amp', ';') 0.68398106\n",
      "('action', 'performed_automatically') 0.6676772\n",
      "('couple', 'few') 0.6567316\n",
      "('disagree', 'agree') 0.64628285\n",
      "('dems', 'democrats') 0.6362802\n",
      "('supreme_court', 'scotus') 0.61996275\n",
      "('republican', 'democrat') 0.6085014\n",
      "('dumb', 'stupid') 0.60647255\n",
      "('26_times', 'lolita_express') 0.6013237\n",
      "('capitalism', 'communism') 0.5988106\n",
      "('jeffrey_epstein', 'epstein') 0.59700453\n",
      "('illegal_immigrants', 'illegals') 0.5922674\n"
     ]
    }
   ],
   "source": [
    "for pair, score in sorted(zip(misaligned, scores), key=lambda x:x[1], reverse=True)[:20]:\n",
    "    print(pair, score)"
   ]
  },
  {
   "cell_type": "code",
   "execution_count": 47,
   "metadata": {},
   "outputs": [
    {
     "name": "stdout",
     "output_type": "stream",
     "text": [
      "('=/', 'compose') 0.93772894\n",
      "('automatically', 'compose') 0.9272409\n",
      "('performed', 'compose') 0.9270565\n",
      "('subreddit', 'compose') 0.91976225\n",
      "('bot', 'compose') 0.9151716\n",
      "('concerns', 'compose') 0.909357\n",
      "('moderators', 'compose') 0.9054626\n",
      "('[', ']') 0.8976162\n",
      "('action', 'compose') 0.89207244\n",
      "('message', 'performed') 0.87207484\n",
      "('shorts', 'pants') 0.86476004\n",
      "('sister', 'brother') 0.8642143\n",
      "('shirts', 'leggings') 0.8639887\n",
      "('please', 'compose') 0.85940146\n",
      "('cheap', 'buy') 0.85615104\n",
      "('food', 'meal') 0.8556203\n",
      "('6', '5') 0.854324\n",
      "('buying', 'buy') 0.85293144\n",
      "('r', 'compose') 0.85048825\n",
      "('play', 'games') 0.84840715\n"
     ]
    }
   ],
   "source": [
    "# MY DATASET\n",
    "for pair, score in sorted(zip(misaligned, scores), key=lambda x:x[1], reverse=True)[:20]:\n",
    "    print(pair, score)"
   ]
  },
  {
   "cell_type": "markdown",
   "metadata": {},
   "source": [
    "### Antonyms"
   ]
  },
  {
   "cell_type": "code",
   "execution_count": 48,
   "metadata": {},
   "outputs": [
    {
     "name": "stderr",
     "output_type": "stream",
     "text": [
      "100%|██████████| 2828/2828 [00:09<00:00, 310.07it/s] \n"
     ]
    }
   ],
   "source": [
    "def get_antonyms(vocab):\n",
    "    antonyms = []\n",
    "    for w in tqdm(vocab):\n",
    "        for synset in wordnet.synsets(w):\n",
    "            for lemma in synset.lemmas():\n",
    "                if lemma.antonyms():\n",
    "                    antonyms.append((w, lemma.antonyms()[0].name()))\n",
    "    antonyms = set(antonyms)\n",
    "    return antonyms\n",
    "\n",
    "antonyms = get_antonyms(combo_vocab)"
   ]
  },
  {
   "cell_type": "code",
   "execution_count": 66,
   "metadata": {},
   "outputs": [
    {
     "name": "stdout",
     "output_type": "stream",
     "text": [
      "('civilian', 'military')\n",
      "('decrease', 'increase')\n",
      "('disagree', 'agree')\n",
      "('disrespect', 'respect')\n",
      "('illogical', 'logical')\n",
      "('inaccurate', 'accurate')\n",
      "('indirectly', 'directly')\n",
      "('ineffective', 'effective')\n",
      "('intolerant', 'tolerant')\n",
      "('invalid', 'valid')\n",
      "('liability', 'asset')\n",
      "('sell', 'buy')\n",
      "('sells', 'buy')\n",
      "('unreasonable', 'reasonable')\n",
      "('unwilling', 'willing')\n",
      "('weakness', 'strength')\n",
      "('west', 'east')\n"
     ]
    }
   ],
   "source": [
    "for mPair in misaligned:\n",
    "    if mPair in antonyms or (mPair[0], mPair[1]) in antonyms:\n",
    "        print(mPair)"
   ]
  },
  {
   "cell_type": "code",
   "execution_count": 49,
   "metadata": {},
   "outputs": [
    {
     "name": "stdout",
     "output_type": "stream",
     "text": [
      "('boy', 'girl')\n",
      "('disagree', 'agree')\n",
      "('expensive', 'cheap')\n",
      "('forward', 'back')\n",
      "('give', 'take')\n",
      "('light', 'dark')\n",
      "('male', 'female')\n",
      "('more', 'less')\n",
      "('particular', 'general')\n",
      "('positive', 'negative')\n",
      "('second', 'first')\n",
      "('sell', 'buy')\n",
      "('sister', 'brother')\n",
      "('small', 'big')\n",
      "('unfortunately', 'luckily')\n",
      "('white', 'black')\n",
      "('wife', 'husband')\n"
     ]
    }
   ],
   "source": [
    "# MY DATASET\n",
    "for mPair in misaligned:\n",
    "    if mPair in antonyms or (mPair[0], mPair[1]) in antonyms:\n",
    "        print(mPair)"
   ]
  },
  {
   "cell_type": "code",
   "execution_count": 129,
   "metadata": {},
   "outputs": [
    {
     "name": "stdout",
     "output_type": "stream",
     "text": [
      "0.5847953216374269% misaligned pairs from 'misaligned', in 'antonyms' set\n"
     ]
    }
   ],
   "source": [
    "print(\"{}% misaligned pairs from 'misaligned', in 'antonyms' set\".format(len([mPair for mPair in misaligned if mPair in antonyms or (mPair[0], mPair[1]) in antonyms])/len(misaligned)*100))"
   ]
  },
  {
   "cell_type": "code",
   "execution_count": 50,
   "metadata": {},
   "outputs": [
    {
     "name": "stdout",
     "output_type": "stream",
     "text": [
      "2.127659574468085% misaligned pairs from 'misaligned', in 'antonyms' set\n"
     ]
    }
   ],
   "source": [
    "# MY DATASET\n",
    "print(\"{}% misaligned pairs from 'misaligned', in 'antonyms' set\".format(len([mPair for mPair in misaligned if mPair in antonyms or (mPair[0], mPair[1]) in antonyms])/len(misaligned)*100))"
   ]
  },
  {
   "cell_type": "markdown",
   "metadata": {},
   "source": [
    "### Translation / Conceptual Homomorphisms"
   ]
  },
  {
   "cell_type": "code",
   "execution_count": 51,
   "metadata": {},
   "outputs": [],
   "source": [
    "unique_vocab = []\n",
    "for w in model_a.wv.vocab:\n",
    "    if w not in model_b.wv.vocab:\n",
    "        unique_vocab.append(w)"
   ]
  },
  {
   "cell_type": "code",
   "execution_count": 52,
   "metadata": {},
   "outputs": [],
   "source": [
    "translations = []\n",
    "scores = []\n",
    "for w in unique_vocab:\n",
    "    t = translator(w)\n",
    "    translations.append((w, t[0][0]))\n",
    "    scores.append(t[1][0])"
   ]
  },
  {
   "cell_type": "code",
   "execution_count": 69,
   "metadata": {},
   "outputs": [
    {
     "name": "stdout",
     "output_type": "stream",
     "text": [
      "('instructions_provided', 'performed_automatically') 0.71877486\n",
      "('permanent_ban', 'performed_automatically') 0.69331694\n",
      "('rule_violations', 'performed_automatically') 0.63353837\n",
      "('wishing_death/physical', 'performed_automatically') 0.594555\n",
      "('fully_participate', 'please_contact') 0.5898004\n",
      "('rulebreaking_content', 'performed_automatically') 0.5775635\n",
      "('`_youtu.be', '`') 0.55210274\n",
      "('spam_domain', 'performed_automatically') 0.5434005\n",
      "('/r/politics_within', 'performed_automatically') 0.52550036\n",
      "('troll_accusations', 'performed_automatically') 0.51061064\n",
      "('whitelisting', 'performed_automatically') 0.4963802\n",
      "('blatant_spam', 'performed_automatically') 0.48971322\n",
      "('confederate_flag', 'flag') 0.48527563\n",
      "('excluding_indians', 'persons') 0.48497242\n",
      "('site_administrators', 'link_shortener') 0.48107997\n",
      "('following_reason', 'submission') 0.48058963\n",
      "('alan_dershowitz', 'epstein') 0.48009375\n",
      "('drinking_water', 'water') 0.47866067\n",
      "('breaking_channel', 'link_shortener') 0.47774062\n",
      "('nonreputable_/', 'performed_automatically') 0.47719014\n"
     ]
    }
   ],
   "source": [
    "for pair, score in sorted(zip(translations, scores), key=lambda x:x[1], reverse=True)[:20]:\n",
    "    print(pair, score)"
   ]
  },
  {
   "cell_type": "code",
   "execution_count": 231,
   "metadata": {},
   "outputs": [
    {
     "name": "stdout",
     "output_type": "stream",
     "text": [
      "\u001b[1m\u001b[94maskmen\u001b[0m & \u001b[1m\u001b[91mcompose\u001b[0m, aligment score: 0.9154050946235657\n",
      "\u001b[1m\u001b[94maskmen\u001b[0m:\n",
      "your submission was removed by a computer . this could be for a number of reasons , most of which are summarized in the rules text on the right . in most of these cases , the computer is right , and we will not overturn its decision . if you have re-read your question and still think this is a failure of the automated filter , message us with an actual reason as to why the computer is wrong . if you just say that you think the computer is wrong without any reasoning , we will ignore you . * i am a bot , and this action was performed automatically . please [ contact the moderators of this subreddit ] ( / message / compose / ? to =/ r / \u001b[1m\u001b[94maskmen\u001b[0m ) if you have any questions or concerns . *\n",
      "\n",
      "your submission was removed by a computer . this could be for a number of reasons , most of which are summarized in the rules text on the right . in most of these cases , the computer is right , and we will not overturn its decision . if you have re-read your question and still think this is a failure of the automated filter , message us with an actual reason as to why the computer is wrong . if you just say that you think the computer is wrong without any reasoning , we will ignore you . * i am a bot , and this action was performed automatically . please [ contact the moderators of this subreddit ] ( / message / compose / ? to =/ r / \u001b[1m\u001b[94maskmen\u001b[0m ) if you have any questions or concerns . *\n",
      "\n",
      "\u001b[1m\u001b[91mcompose\u001b[0m:\n",
      "hello jon-snow 1 . thank you for participating in / r / askwomen . however , your submission has been removed , because we do not allow personal advice or evaluation submissions . you can always go to / r / askwomenadvice , / r / relationships for romantic / non-romantic relationship advice , / r / legaladvice for legal advice , / r / femalefashionadvice for fashion advice , / r / skincareaddiction for skin care advice , or / r / findareddit if you dont know where else to go . please remember to read the rules of any subreddit you go to . if you think you received this message in error , please [ message the moderators ( click here ) ] ( HTTPURL post was removed for personal advice \" & message =) . do n't forget to link your post ! thanks . * i am a bot , and this action was performed automatically . please [ contact the moderators of this subreddit ] ( / message / \u001b[1m\u001b[91mcompose\u001b[0m / ? to =/ r / askwomen ) if you have any questions or concerns . *\n",
      "\n",
      "\u001b[1m\u001b[94mreasoning\u001b[0m & \u001b[1m\u001b[91mcompose\u001b[0m, aligment score: 0.8745595812797546\n",
      "\u001b[1m\u001b[94mreasoning\u001b[0m:\n",
      "your submission was removed by a computer . this could be for a number of reasons , most of which are summarized in the rules text on the right . in most of these cases , the computer is right , and we will not overturn its decision . if you have re-read your question and still think this is a failure of the automated filter , message us with an actual reason as to why the computer is wrong . if you just say that you think the computer is wrong without any \u001b[1m\u001b[94mreasoning\u001b[0m , we will ignore you . * i am a bot , and this action was performed automatically . please [ contact the moderators of this subreddit ] ( / message / compose / ? to =/ r / askmen ) if you have any questions or concerns . *\n",
      "\n",
      "what the fuck are you on about ? > someone puts an asterisk in something that you have nothing to with and you just go off ? because explaining my \u001b[1m\u001b[94mreasoning\u001b[0m ( which was questioned ) is \" going off \" . and it was n't because of an asterisk . i even started this shit by stating it was a \" pet peeve \" > lol and then you go on to defend your \" point of view \" at length . yeah . somebody questioned it and i had the time and boredom to defend it . and of course i am willing to defend it , otherwise , i would n't hold that opinion . > we all enjoyed \" an essay on why i 'm hopping mad about seeing stars \" , what 's your next rant ? i do n't know about that story . and my rants are universal , the next one might be about people refusing to use their blinkers , for all i know . > lowercase letters ? the hated underscore ? you 've got yourself a pretty trivial pet peeve there my friend . yeah , that 's why it 's called a * * pet peeve * * : a \" minor annoyance that an individual finds particularly irritating to them \" . it 's in the very definition of the term . i 'm also not your * * friend * * , * buddy * . and i have no idea why you 're so mad about this .\n",
      "\n",
      "\u001b[1m\u001b[91mcompose\u001b[0m:\n",
      "hello any-proposal - 3535 . thank you for participating in / r / askwomen . however , your submission has been removed , because we do not allow personal advice or evaluation submissions . you can always go to / r / askwomenadvice , / r / relationships for romantic / non-romantic relationship advice , / r / legaladvice for legal advice , / r / femalefashionadvice for fashion advice , / r / skincareaddiction for skin care advice , or / r / findareddit if you dont know where else to go . please remember to read the rules of any subreddit you go to . if you think you received this message in error , please [ message the moderators ( click here ) ] ( HTTPURL post was removed for personal advice \" & message =) . do n't forget to link your post ! thanks . * i am a bot , and this action was performed automatically . please [ contact the moderators of this subreddit ] ( / message / \u001b[1m\u001b[91mcompose\u001b[0m / ? to =/ r / askwomen ) if you have any questions or concerns . *\n",
      "\n",
      "\u001b[1m\u001b[94mtowel\u001b[0m & \u001b[1m\u001b[91mwet\u001b[0m, aligment score: 0.8496521711349487\n",
      "\u001b[1m\u001b[94mtowel\u001b[0m:\n",
      "i put two paper \u001b[1m\u001b[94mtowel\u001b[0ms that are still connected on the counter then fold trapping everything in there . wiping the sink and toss out . wife apparently appreciates the lack of trimmings i leave now after my use of the bathroom . so i got that going for me . which is nice .\n",
      "\n",
      "if i 'm on top & wearing a condom usually a couple of wet wipes clean the jizz off my cock . if she 's on top & my balls & ass crack are glazed over then we usually hit the shower & change the sheets or throw the \u001b[1m\u001b[94mtowel\u001b[0m in the hamper .\n",
      "\n",
      "\u001b[1m\u001b[91mwet\u001b[0m:\n",
      "> shave with warm while your pores are open , rinse with cold to tighten them and prevent red bumps . i shave with soap and a brush , aka : \" \u001b[1m\u001b[91mwet\u001b[0m shave . \" this is the way it is done : warm first , then cold to close the pores . closed pores also helps to reduce the burn of after shave .\n",
      "\n",
      "\u001b[1m\u001b[94mboots\u001b[0m & \u001b[1m\u001b[91mpair\u001b[0m, aligment score: 0.8394933342933655\n",
      "\u001b[1m\u001b[94mboots\u001b[0m:\n",
      "bare footing after a long day in work \u001b[1m\u001b[94mboots\u001b[0m . letting the puppies breathe is the best feeling\n",
      "\n",
      "what do you mean \" if \" ? olive military jacket usually with patches of varying interests , black t-shirt , gray pants , black \u001b[1m\u001b[94mboots\u001b[0m .\n",
      "\n",
      "\u001b[1m\u001b[91mpair\u001b[0m:\n",
      "i 've come to the conclusion that all of my hair ties are in the same place as all of my bobby pins and the other half of several \u001b[1m\u001b[91mpair\u001b[0ms of socks . kitty ! narnia .\n",
      "\n",
      "\u001b[1m\u001b[94munattractive\u001b[0m & \u001b[1m\u001b[91mattractive\u001b[0m, aligment score: 0.837020754814148\n",
      "\u001b[1m\u001b[94munattractive\u001b[0m:\n",
      "just remember that they 're as insecure as you are . god i wish i learned that as a teen . everyone including girls feel \u001b[1m\u001b[94munattractive\u001b[0m and girls who think they 're attractive are n't worth your time .\n",
      "\n",
      "oh definitely \u001b[1m\u001b[94munattractive\u001b[0m on both accounts . this has definitely been hammered home more often than i 'd like .\n",
      "\n",
      "\u001b[1m\u001b[91mattractive\u001b[0m:\n",
      "i was ugly throughout my teens and 20s , but now that i 'm in my mid - 30s i get a lot of backhanded compliments like \" you look good for your age \" or \" you look great after losing all that weight \" or \" at least you have n't let yourself go like most older women \" and it just makes me feel * worse * about my appearance . i 've had to make peace with both body image issues and gender dysphoria , so my feelings towards my face and body are ... complicated . it still feels like i 'm stuck in a gross awkward meat suit , but now it 's a gross awkward meat suit that 's been laboriously reshaped through crash diets and surgery to be slightly more in line with conventional beauty standards that i do n't subscribe to in the first place because the appearance i actually want is unattainable . but some other people my age look worse so i 'm no longer at the rock bottom of relative \u001b[1m\u001b[91mattractive\u001b[0mness anymore , and men old enough to be my father still creep on me , so ... that 's supposed to be good ? i guess ? i do n't even know .\n",
      "\n",
      "\u001b[1m\u001b[94myea\u001b[0m & \u001b[1m\u001b[91myeah\u001b[0m, aligment score: 0.8167580962181091\n",
      "\u001b[1m\u001b[94myea\u001b[0m:\n",
      "damn are things different in europe , i started working as an intern at a law firm at 22 or my 3rd \u001b[1m\u001b[94myea\u001b[0mr out of 6 in law school . you can live just fine off the stipends you get from uni generally .\n",
      "\n",
      "got mine at 8.40 am . went work , no problems , went shopping after work , still fine . was on the phone with a friend and almost exactly 12 hours after the jab , so 8.40 pm i started getting cold symptoms , and began aching all over . then the shakes came . i did n't really feel cold , i just could n't stop shivering . went to bed , woke up countless times through the night feeling more ill than i had in \u001b[1m\u001b[94myea\u001b[0mrs . just the idea of rolling over to get some painkillers was too much , so i just lay there , sweating , feeling sick and with a terrible headache . things eased the next day but i was run down for a few days still . can't wait for my second dose !\n",
      "\n",
      "\u001b[1m\u001b[91myeah\u001b[0m:\n",
      "\u001b[1m\u001b[91myeah\u001b[0m they work well on gums but not teeth\n",
      "\n",
      "\u001b[1m\u001b[94mtaller\u001b[0m & \u001b[1m\u001b[91mheight\u001b[0m, aligment score: 0.8083593249320984\n",
      "\u001b[1m\u001b[94mtaller\u001b[0m:\n",
      "i do n't want to be \u001b[1m\u001b[94mtaller\u001b[0m or longer , so i 'd leave them both the same .\n",
      "\n",
      "nope . i 'm 6 ' 4 \" and do n't care if she 's \u001b[1m\u001b[94mtaller\u001b[0m or miniature as long as she does n't look like she can beat up a 6 ' 4 \" rugger i 'm good .\n",
      "\n",
      "\u001b[1m\u001b[91mheight\u001b[0m:\n",
      "men usually like girls shorter than them . but then again i 'm still self conscious of my \u001b[1m\u001b[91mheight\u001b[0m :rolling_on_the_floor_laughing:\n",
      "\n",
      "\u001b[1m\u001b[94mflagged\u001b[0m & \u001b[1m\u001b[91mmessage\u001b[0m, aligment score: 0.8071189522743225\n",
      "\u001b[1m\u001b[94mflagged\u001b[0m:\n",
      "your post has been \u001b[1m\u001b[94mflagged\u001b[0m as trying to figure out a specific person 's or group of people 's actions or thinking . * * if you think this action was made in error , [ message our moderators ] ( HTTPURL ) with a link to the post for approval . * * * i am a bot , and this action was performed automatically . please [ contact the moderators of this subreddit ] ( / message / compose / ? to =/ r / askmen ) if you have any questions or concerns . *\n",
      "\n",
      "the computer \u001b[1m\u001b[94mflagged\u001b[0m this as a frequently asked question . use the search bar . * i am a bot , and this action was performed automatically . please [ contact the moderators of this subreddit ] ( / message / compose / ? to =/ r / askmen ) if you have any questions or concerns . *\n",
      "\n",
      "\u001b[1m\u001b[91mmessage\u001b[0m:\n",
      "this comment or post has been removed for derailing . derailing includes but is not limited to : - changing the topic from op 's question - making someone else 's response about yourself - asking unrelated follow-up questions - branching into unrelated topics - \" what-about \" - ism - arguments , slap-fighting , or debating - judging or rating other responses - meta comments about other responses - responding to comments to tell us how your dick feels . no one cares . if you have any questions about this moderation action , please \u001b[1m\u001b[91mmessage\u001b[0m the moderators through the link on the sidebar or [ here ] ( HTTPURL ) . if you are messaging about your removed comment or post , please include a link to the removed content for review .\n",
      "\n",
      "\u001b[1m\u001b[94mtongue\u001b[0m & \u001b[1m\u001b[91mwet\u001b[0m, aligment score: 0.8066691160202026\n",
      "\u001b[1m\u001b[94mtongue\u001b[0m:\n",
      "just to give you an anecdote . my ex-wife had a crazy natural ability to deep throat with ease . my girlfriend either doesnt or cant really deep throat ( not sure which one it is yet ) but she has a special \u001b[1m\u001b[94mtongue\u001b[0m move that drive me crazy . hey , i love giving and receiving oral , but at the end of the day , special tricks aside , all it really does is get me a little extra excited to smash the pussy . my girlfriend will cum if i go down on her , focusing on her clit , and then fuck her deep immediately after .\n",
      "\n",
      "grow your \u001b[1m\u001b[94mtongue\u001b[0m to 10 inches long and learn how to breathe through your ears\n",
      "\n",
      "\u001b[1m\u001b[91mwet\u001b[0m:\n",
      "while i do like mac and cheese , most mac and cheese is underwhelming . a lot of the time it 's just \u001b[1m\u001b[91mwet\u001b[0m cheesiness without much spice or texture . i 've only had a handful of times where it 's been really stellar and flavorful . one of my fave bars makes amazing mac and cheese and it 's good because it 's got a lot of flavor . it 's peppery and spicy .\n",
      "\n",
      "\u001b[1m\u001b[94mweights\u001b[0m & \u001b[1m\u001b[91mexercise\u001b[0m, aligment score: 0.8024705052375793\n",
      "\u001b[1m\u001b[94mweights\u001b[0m:\n",
      "if i 've got my gym gear with me , i go to the gym an listen to aggressive music while running or lifting \u001b[1m\u001b[94mweights\u001b[0m . if i do n't , or have already been to the gym , i go home and have a cup of tea , probably play some videogames . depending on the day of the week , or if i feel up to it , i might call a mate or two to see if they want to go for a beer .\n",
      "\n",
      "lifting \u001b[1m\u001b[94mweights\u001b[0m\n",
      "\n",
      "\u001b[1m\u001b[91mexercise\u001b[0m:\n",
      "\u001b[1m\u001b[91mexercise\u001b[0m , eating well , chugging litres of water every day , stopping coffee and alcohol and deleting the majority of my social media\n",
      "\n",
      "\u001b[1m\u001b[94mautomated\u001b[0m & \u001b[1m\u001b[91mcompose\u001b[0m, aligment score: 0.8000394701957703\n",
      "\u001b[1m\u001b[94mautomated\u001b[0m:\n"
     ]
    },
    {
     "name": "stdout",
     "output_type": "stream",
     "text": [
      "your submission was removed by a computer . this could be for a number of reasons , most of which are summarized in the rules text on the right . in most of these cases , the computer is right , and we will not overturn its decision . if you have re-read your question and still think this is a failure of the \u001b[1m\u001b[94mautomated\u001b[0m filter , message us with an actual reason as to why the computer is wrong . if you just say that you think the computer is wrong without any reasoning , we will ignore you . * i am a bot , and this action was performed automatically . please [ contact the moderators of this subreddit ] ( / message / compose / ? to =/ r / askmen ) if you have any questions or concerns . *\n",
      "\n",
      "your submission was removed by a computer . this could be for a number of reasons , most of which are summarized in the rules text on the right . in most of these cases , the computer is right , and we will not overturn its decision . if you have re-read your question and still think this is a failure of the \u001b[1m\u001b[94mautomated\u001b[0m filter , message us with an actual reason as to why the computer is wrong . if you just say that you think the computer is wrong without any reasoning , we will ignore you . * i am a bot , and this action was performed automatically . please [ contact the moderators of this subreddit ] ( / message / compose / ? to =/ r / askmen ) if you have any questions or concerns . *\n",
      "\n",
      "\u001b[1m\u001b[91mcompose\u001b[0m:\n",
      "hello obvious_sea 5182 . thank you for participating in / r / askwomen . however , your submission has been removed , because we do not allow personal advice or evaluation submissions . you can always go to / r / askwomenadvice , / r / relationships for romantic / non-romantic relationship advice , / r / legaladvice for legal advice , / r / femalefashionadvice for fashion advice , / r / skincareaddiction for skin care advice , or / r / findareddit if you dont know where else to go . please remember to read the rules of any subreddit you go to . if you think you received this message in error , please [ message the moderators ( click here ) ] ( HTTPURL post was removed for personal advice \" & message =) . do n't forget to link your post ! thanks . * i am a bot , and this action was performed automatically . please [ contact the moderators of this subreddit ] ( / message / \u001b[1m\u001b[91mcompose\u001b[0m / ? to =/ r / askwomen ) if you have any questions or concerns . *\n",
      "\n",
      "\u001b[1m\u001b[94mpounds\u001b[0m & \u001b[1m\u001b[91mweight\u001b[0m, aligment score: 0.7972006797790527\n",
      "\u001b[1m\u001b[94mpounds\u001b[0m:\n",
      "i 'm 6 ' 2 . i entered 2021 weighing 138 \u001b[1m\u001b[94mpounds\u001b[0m and could 've passed as an extra in schindler 's list . since then i 've gained around 30lb of pretty much just muscle . it is 100 % worth it . i 'm never going back . i feel great and am definitely getting more \" attention \" . it 's hard work but so , so worth it .\n",
      "\n",
      "how long does it take to see results as someone who 's starting from 0 ? i lost like 100 \u001b[1m\u001b[94mpounds\u001b[0m but i do n't have any muscle underneath . currently i have the body of an anorexic chicken .\n",
      "\n",
      "\u001b[1m\u001b[91mweight\u001b[0m:\n",
      "the lifestyle changes that resulted from the covid pandemic allowed me to save more money , lose \u001b[1m\u001b[91mweight\u001b[0m and , oddly enough , spend more time with most of my friends through virtual meetups .\n",
      "\n",
      "\u001b[1m\u001b[94mlifting\u001b[0m & \u001b[1m\u001b[91mexercise\u001b[0m, aligment score: 0.7961577773094177\n",
      "\u001b[1m\u001b[94mlifting\u001b[0m:\n",
      "i 'll echo the truth that everyone is different . because of that , comparing yourself to others is the path to disappointment - there 's always someone better . focus on * your * gains , * your * improvement . compare yourself to you . plus , we all have variation in how we are strong . in college , i was skinny af . was n't into \u001b[1m\u001b[94mlifting\u001b[0m , but was an avid cyclist . i could n't bench press 60kg for even a single rep , but i could calf lift 280kg for 20 reps . go figure .\n",
      "\n",
      "i 'm 22 , 5 ' 1 , and am thin so my preferences are different from other girls who are taller than me . i do like taller guys . they get treated with more respect which is nice , because i do n't want a guy who gets bullied by his friend group . i prefer guys who are thinner . i like guys with really nice , strong shoulders and arms . idc if he has abs , as long as he 's not overweight . i just like nice arms , shoulder , and back . part of the reason i do n't like big , big guys is because i feel like they make me look like a little kid next to them , which people comment on , and i find creepy . thinner guys are also less likely to go on about how tiny i am which also just makes me feel like a child . one of my friends is like 5 ' 8 and very curvy and she likes big guys because they make her feel smaller and more dainty . they 're also strong enough to lift her which she finds hot then i have another girlfriend who is 5 ' 8 who has a very skinny boyfriend . she 's big into sports ( majorly obsessed with football ) so she was looking for a dude who would n't feel emasculated by her . just like men , we all have different preferences ! but the biggest trend i 've noticed is just a desire to be able to picked up . this does n't mean you should go around \u001b[1m\u001b[94mlifting\u001b[0m random women off the ground , though . last time a guy did that to me , my arms were covered in bruises for a week because he squeezed so hard and my mom became convinced i was hiding an abusive relationship from her\n",
      "\n",
      "\u001b[1m\u001b[91mexercise\u001b[0m:\n",
      "honestly , my \" secret \" was to find ways to get my body moving more that i would actually enjoy and would n't be considered a chore . i absolutely hated going to the gym , so it would never turn into a habit . i started doing aerial silks , which i fell in love with . i now teach aerial silks and have more recently started doing ballet ( which i also fell in love with ) . so now i \u001b[1m\u001b[91mexercise\u001b[0m at least an hour and a half a day and it 's literally the best part of my day . as for diet , it 's pretty easy for me to maintain a healthy diet since i want to excel in ballet and in aerials . if i eat junk food , i do n't do as well in class or when i 'm training . another thing that helped me was to stop using junk food as a prize or even food in general . this used to lead me to binging . now if i want to treat myself , i buy a cute outfit , cool socks , a mani pedi , things like that haha .\n",
      "\n",
      "\u001b[1m\u001b[94mfilter\u001b[0m & \u001b[1m\u001b[91mcompose\u001b[0m, aligment score: 0.7947900295257568\n",
      "\u001b[1m\u001b[94mfilter\u001b[0m:\n",
      "your submission was removed by a computer . this could be for a number of reasons , most of which are summarized in the rules text on the right . in most of these cases , the computer is right , and we will not overturn its decision . if you have re-read your question and still think this is a failure of the automated \u001b[1m\u001b[94mfilter\u001b[0m , message us with an actual reason as to why the computer is wrong . if you just say that you think the computer is wrong without any reasoning , we will ignore you . * i am a bot , and this action was performed automatically . please [ contact the moderators of this subreddit ] ( / message / compose / ? to =/ r / askmen ) if you have any questions or concerns . *\n",
      "\n",
      "your submission was removed by a computer . this could be for a number of reasons , most of which are summarized in the rules text on the right . in most of these cases , the computer is right , and we will not overturn its decision . if you have re-read your question and still think this is a failure of the automated \u001b[1m\u001b[94mfilter\u001b[0m , message us with an actual reason as to why the computer is wrong . if you just say that you think the computer is wrong without any reasoning , we will ignore you . * i am a bot , and this action was performed automatically . please [ contact the moderators of this subreddit ] ( / message / compose / ? to =/ r / askmen ) if you have any questions or concerns . *\n",
      "\n",
      "\u001b[1m\u001b[91mcompose\u001b[0m:\n",
      "your submission has been removed because this question is a commonly asked and we are not accepting any new submissions at this time . please view our faq [ here ] ( HTTPURL ) or search the subreddit . you can always go to r / askwomenadvice if you are seeking advice on a personal situation or r / findareddit to find the right place for your post . if you think you received this message in error , link your post & please [ message the moderators ( click here ) ] ( HTTPURL post was auto-removed for asking for asking about a commonly asked subject . \" & message =) . * i am a bot , and this action was performed automatically . please [ contact the moderators of this subreddit ] ( / message / \u001b[1m\u001b[91mcompose\u001b[0m / ? to =/ r / askwomen ) if you have any questions or concerns . *\n",
      "\n",
      "\u001b[1m\u001b[94mre-read\u001b[0m & \u001b[1m\u001b[91mcompose\u001b[0m, aligment score: 0.7823028564453125\n",
      "\u001b[1m\u001b[94mre-read\u001b[0m:\n",
      "your submission was removed by a computer . this could be for a number of reasons , most of which are summarized in the rules text on the right . in most of these cases , the computer is right , and we will not overturn its decision . if you have \u001b[1m\u001b[94mre-read\u001b[0m your question and still think this is a failure of the automated filter , message us with an actual reason as to why the computer is wrong . if you just say that you think the computer is wrong without any reasoning , we will ignore you . * i am a bot , and this action was performed automatically . please [ contact the moderators of this subreddit ] ( / message / compose / ? to =/ r / askmen ) if you have any questions or concerns . *\n",
      "\n",
      "your submission was removed by a computer . this could be for a number of reasons , most of which are summarized in the rules text on the right . in most of these cases , the computer is right , and we will not overturn its decision . if you have \u001b[1m\u001b[94mre-read\u001b[0m your question and still think this is a failure of the automated filter , message us with an actual reason as to why the computer is wrong . if you just say that you think the computer is wrong without any reasoning , we will ignore you . * i am a bot , and this action was performed automatically . please [ contact the moderators of this subreddit ] ( / message / compose / ? to =/ r / askmen ) if you have any questions or concerns . *\n",
      "\n",
      "\u001b[1m\u001b[91mcompose\u001b[0m:\n",
      "hello owieoofmyfeels . thank you for participating in / r / askwomen . however , your submission has been removed , because we do not allow personal advice or evaluation submissions . you can always go to / r / askwomenadvice , / r / relationships for romantic / non-romantic relationship advice , / r / legaladvice for legal advice , / r / femalefashionadvice for fashion advice , / r / skincareaddiction for skin care advice , or / r / findareddit if you dont know where else to go . please remember to read the rules of any subreddit you go to . if you think you received this message in error , please [ message the moderators ( click here ) ] ( HTTPURL post was removed for personal advice \" & message =) . do n't forget to link your post ! thanks . * i am a bot , and this action was performed automatically . please [ contact the moderators of this subreddit ] ( / message / \u001b[1m\u001b[91mcompose\u001b[0m / ? to =/ r / askwomen ) if you have any questions or concerns . *\n",
      "\n",
      "\u001b[1m\u001b[94mmuscles\u001b[0m & \u001b[1m\u001b[91mmuscle\u001b[0m, aligment score: 0.780255138874054\n",
      "\u001b[1m\u001b[94mmuscles\u001b[0m:\n",
      "by doing things only men can do for example walking alone at midnight , traveling to a moderately dangerous places , not shaving my legs armpits and butt hole without getting judged , building \u001b[1m\u001b[94mmuscles\u001b[0m and imaging pregnancy and period pain\n",
      "\n",
      "treadmill 4 times a week for 30 minutes . i do n't want or need \u001b[1m\u001b[94mmuscles\u001b[0m but have an image issue and do n't want health problems , so i compromise by doing the least for the most .\n",
      "\n",
      "\u001b[1m\u001b[91mmuscle\u001b[0m:\n",
      "i was a kid .. late primarily school so could 've been anywhere between 11 and 14 years old i think . i had some persistent and constant hip / \u001b[1m\u001b[91mmuscle\u001b[0m pain only when walking , that was unrelated to previous physical activities ( not sore from recent exercise ) . i complained to one medical professional who brushed me off . i complained to another one . they told me to take painkillers . :face_with_rolling_eyes: no physical exam , no follow up questions . nothing . could 've had a cyst on an ovary ( years later i found out i have pcos ) , could 've been appendicitis , could 've been anything but the level of not giving a fuck was astounding . luckily it went away just the way it came and it was most likely just growing pains , but still .\n",
      "\n",
      "\u001b[1m\u001b[94mbud\u001b[0m & \u001b[1m\u001b[91moh\u001b[0m, aligment score: 0.7791710495948792\n",
      "\u001b[1m\u001b[94mbud\u001b[0m:\n"
     ]
    },
    {
     "name": "stdout",
     "output_type": "stream",
     "text": [
      "this depends first on the mechanical bias of your foot strike then the activity you 're going to use them for . my feet over-pronate and buying shoes that help address this was life changing . a running or athletic specific shop with a trained staff can help you figure this out . big brand shoe stores may or may not be able to offer the same service . deliberately training strength in my core and lower body was the next iteration of that revolution . a good physical therapist ( not a chiropractor , they 're not interchangeable ! ) to help address any nagging injuries or deficiencies is worth more than the shoes . i . e . if you have $ 200 to spend on shoes , go see the physiotherapist first then make an informed choice . you might have to adjust your shoe \u001b[1m\u001b[94mbud\u001b[0mget , but you wo n't be going into that process ignorant of your own individual needs ( which can vary wildly ) .\n",
      "\n",
      "for some odd reason , i feel like she secretly liked you and was maybe using your \u001b[1m\u001b[94mbud\u001b[0mdy to get to you and since it obviously did n't work is now projecting her anger towards y'all . i definitely could be wrong but something keeps telling me this . i do n't know the full context of the relationship so again , i could be wrong .\n",
      "\n",
      "\u001b[1m\u001b[91moh\u001b[0m:\n",
      "\u001b[1m\u001b[91moh\u001b[0m they know why we hardly go there anymore - my so went nuclear the last christmas before covid . it was beautiful ! we did n't speak to either of them for several months and now have very low contact with his brother and only when she is n't around . bil wo n't go anywhere as he 's fed and has his other needs taken care of but i 'm not so sure about her . i found out a few months ago that she 'd also been seeing a married man in the early days of dating bil but he would n't leave his family for her so she stuck with bil . it was a pretty decent lifestyle upgrade for her so i suspect that if she ever thought she could upgrade again she 'd leave bil with nothing but the debts ( she left quite a few behind when she moved cross country to live with him ) . the funny thing is my own relationship with my so is much , much stronger now we are n't seeing a lot of them . probably because i 'm not boiling over with frustration about having to grin and bear it to keep the familial peace and he 's realised that i 'm not * just * a cynic - i 'm a cynic with good instincts , * thankyouverymuch * lol .\n",
      "\n",
      "\u001b[1m\u001b[94mdollars\u001b[0m & \u001b[1m\u001b[91m$\u001b[0m, aligment score: 0.773277759552002\n",
      "\u001b[1m\u001b[94mdollars\u001b[0m:\n",
      "running , 0 \u001b[1m\u001b[94mdollars\u001b[0m and can get very addicting quick\n",
      "\n",
      "i did n't do this but a friend did . he was meeting customers at the bar and knew it would be a big drive king night . he also needed to drive home . he got there 45 mins early , found his server for the evening and handed her 20 \u001b[1m\u001b[94mdollars\u001b[0m . he explained the situation and said he would order jack and cokes . she could feel free to charge for the full drink ( company was paying ) but only bring coke in his glass and pretend it was a real drink . he stayed dead cold sober ( and pretty caffienated ) while his customers got sloshed . personally , i find personal situations to be no big deal . i am happy to let someone else be uncomfortable if i 'm not drinking , plus if they are persistent , i know how to push those buttons and i will make them uncomfortable if they are pushy . but a business situation is different . this approach is good to remember .\n",
      "\n",
      "\u001b[1m\u001b[91m$\u001b[0m:\n",
      "i do n't know . one friend made excuses for a while and each time she did i told her that she only had to pay me back if she could . there was no strings attached . i woke up one day and she blocked me and cut off all contact . the sucky part was i was attached to her kid and he was good friends with my son . oh well . it 's only money . friends are so much more important than money . and i think i lent her a \u001b[1m\u001b[91m$\u001b[0m 1000 . that 's not too bad to find out someone is n't trustworthy\n",
      "\n",
      "\u001b[1m\u001b[94mtrade\u001b[0m & \u001b[1m\u001b[91mdegree\u001b[0m, aligment score: 0.7731598615646362\n",
      "\u001b[1m\u001b[94mtrade\u001b[0m:\n",
      "yeah i am with you at times . i know my company needs me more than i need them at this point , i have developed a set of skills and knowledge that they cant really replicate with anyone else . in saying that , i have set boundaries and they know if i am off they are not to call me . use your usefulness to set those boundaries , if you need to , talk to your boss and explain to them that if they continue to disrespect the boundaries and never allow you any time off , the company could risk losing you altogether . thats not a threat that you are going to leave , its a warning that you could suffer from burnout and not want to work anymore . i have told my boss i absolutely adore my job and would n't \u001b[1m\u001b[94mtrade\u001b[0m it for the world , but i still need my downtime like any other human .\n",
      "\n",
      "in the us 's sphere of influence & \u001b[1m\u001b[94mtrade\u001b[0m , and hopefully we 'll be able to make a canzuk union a reality in some form .\n",
      "\n",
      "\u001b[1m\u001b[91mdegree\u001b[0m:\n",
      "me and my partner both work full time . i wfh as a credit controller for a corporate law firm ( so b2b collections ) . i love my job but it could pay more , and i have a \u001b[1m\u001b[91mdegree\u001b[0m i did n't utilise haha\n",
      "\n",
      "\u001b[1m\u001b[94msuit\u001b[0m & \u001b[1m\u001b[91mdress\u001b[0m, aligment score: 0.7667310237884521\n",
      "\u001b[1m\u001b[94msuit\u001b[0m:\n",
      "we truly are a thing . i 'm watching mad men right now , and am fascinated by the character development of don draper . at one point he 's enmeshed in this sort hippie community and they 're extolling the virtues of marxism to him while the only reason he 's there is to try to get laid with one of their members . they begin to denigrate his profession , accusing him of generating \" want , \" and he simply reports that whatever we do , the universe does n't care . the . universe . does n't . care . they exclaim \" why would you say that ? \" their ideological prejudices melted away in that moment , without resistance . this is the remark of a man who has forgone judging anything as good or bad . things just are . simple as that . same with professions and the wealth they create . you can lament the preferences of your partner . it does n't help anything . you simply must accept it as it is , work with it , and decide what course of action \u001b[1m\u001b[94msuit\u001b[0ms you better in the future .\n",
      "\n",
      "she defines her self-worth relative to her partner ... that 's kind of sad . she feels the need to publicise it to validate herself as a woman , and * presumes * that if she does n't , her man may abandon her , or she 'll be swamped with \u001b[1m\u001b[94msuit\u001b[0mors ... all ridiculous ! i would n't want to be constantly showcased ... it 's only ' cute ' in a certain * co-dependent * way .\n",
      "\n",
      "\u001b[1m\u001b[91mdress\u001b[0m:\n",
      "realized that i was n't doing the things that bring me joy ( e . g . \u001b[1m\u001b[91mdress\u001b[0ming a certain way ) because a part of my brain was still thinking \" would xyz man in my life like this thing ? \" then made it a point to repeatedly ignore that voice , and do whatever the heck * i * wanted to . so much happier now . opposite action is a godsend\n",
      "\n"
     ]
    }
   ],
   "source": [
    "# MY DATASET\n",
    "\n",
    "class color:\n",
    "   PURPLE = '\\033[95m'\n",
    "   CYAN = '\\033[96m'\n",
    "   DARKCYAN = '\\033[36m'\n",
    "   BLUE = '\\033[94m'\n",
    "   GREEN = '\\033[92m'\n",
    "   YELLOW = '\\033[93m'\n",
    "   RED = '\\033[91m'\n",
    "   BOLD = '\\033[1m'\n",
    "   UNDERLINE = '\\033[4m'\n",
    "   END = '\\033[0m'\n",
    "\n",
    "for pair, score in sorted(zip(translations, scores), key=lambda x:x[1], reverse=True)[:20]:\n",
    "    word_a_highlighted = '{}{}{}'.format(color.BOLD + color.BLUE, pair[0], color.END)\n",
    "    word_b_highlighted = '{}{}{}'.format(color.BOLD + color.RED, pair[1], color.END)\n",
    "    print(word_a_highlighted + ' & ' + word_b_highlighted + ', aligment score: {}'.format(score))\n",
    "    \n",
    "    # print word_a_highlighted, and example sentences\n",
    "    print('{}:'.format(word_a_highlighted))\n",
    "    [print(s.replace(pair[0], word_a_highlighted)) for s in get_example_sentences(pair[0], corpus_a, n_sentences, seed=None)]\n",
    "    \n",
    "    # print word_b_highlighted, and example sentences\n",
    "    print('{}:'.format(word_b_highlighted))\n",
    "    [print(s.replace(pair[1], word_b_highlighted)) for s in get_example_sentences(pair[1], corpus_b, n_sentences, seed=None)]\n",
    "    "
   ]
  },
  {
   "cell_type": "code",
   "execution_count": null,
   "metadata": {},
   "outputs": [],
   "source": []
  }
 ],
 "metadata": {
  "kernelspec": {
   "display_name": "Python 3 (ipykernel)",
   "language": "python",
   "name": "python3"
  },
  "language_info": {
   "codemirror_mode": {
    "name": "ipython",
    "version": 3
   },
   "file_extension": ".py",
   "mimetype": "text/x-python",
   "name": "python",
   "nbconvert_exporter": "python",
   "pygments_lexer": "ipython3",
   "version": "3.8.12"
  }
 },
 "nbformat": 4,
 "nbformat_minor": 4
}
